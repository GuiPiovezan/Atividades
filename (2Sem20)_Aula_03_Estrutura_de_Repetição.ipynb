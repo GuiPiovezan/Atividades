{
  "nbformat": 4,
  "nbformat_minor": 0,
  "metadata": {
    "colab": {
      "name": "Cópia de (2Sem20) Aula 03 - Estrutura de Repetição",
      "provenance": [],
      "collapsed_sections": [],
      "include_colab_link": true
    },
    "kernelspec": {
      "name": "python3",
      "display_name": "Python 3"
    }
  },
  "cells": [
    {
      "cell_type": "markdown",
      "metadata": {
        "id": "view-in-github",
        "colab_type": "text"
      },
      "source": [
        "<a href=\"https://colab.research.google.com/github/GuiPiovezan/Atividades/blob/master/(2Sem20)_Aula_03_Estrutura_de_Repeti%C3%A7%C3%A3o.ipynb\" target=\"_parent\"><img src=\"https://colab.research.google.com/assets/colab-badge.svg\" alt=\"Open In Colab\"/></a>"
      ]
    },
    {
      "cell_type": "markdown",
      "metadata": {
        "id": "IWT9kBSMTj2O"
      },
      "source": [
        "#Aula 3 - Estruturas de Repetição\n",
        "## Linguagem de Programação (Prof. Dr. Henrique Dezani)\n",
        "Curso de Tecnologia em Análise e Desenvolvimento de Sistemas da Faculdade de Tecnologia de São José do Rio Preto"
      ]
    },
    {
      "cell_type": "markdown",
      "metadata": {
        "id": "Bu_cUAtKULLJ"
      },
      "source": [
        "## 3.1. Estrutura de repetição while"
      ]
    },
    {
      "cell_type": "markdown",
      "metadata": {
        "id": "AJD9xRDWI2tK"
      },
      "source": [
        "Testando com `if`, `elif` e `else` é executado de cima para baixo. Às vezes, precisamos fazer algo mais de uma vez. Precisamos de um *loop*, e o mecanismo de *loop* mais simples do Python é `while`. "
      ]
    },
    {
      "cell_type": "markdown",
      "metadata": {
        "id": "YwnUV287YZay"
      },
      "source": [
        "A estrutura de repetição `while` em Python também avalia uma expressão e executa um bloco **até que** esta seja avaliada como falsa (`False`), tenha uma chamada `break` ou levante uma *exceção* sem tratamento. Portanto, esta estrutura de repetição é chamada de estrutura de repetição com teste lógico. Execute o próximo exemplo, que é um *loop* simples que imprime os números de 1 a 5."
      ]
    },
    {
      "cell_type": "code",
      "metadata": {
        "id": "foKq0c6HJD-4"
      },
      "source": [
        "count = 1\n",
        "while count <= 5:  \n",
        "  print(count)\n",
        "  count += 1"
      ],
      "execution_count": null,
      "outputs": []
    },
    {
      "cell_type": "markdown",
      "metadata": {
        "id": "KMZkvKpJViD_"
      },
      "source": [
        "Neste exemplo, primeiro atribuímos o valor 1 à varivel `count`. O *loop* `while` comparou o valor de `count` a 5 e continuou se `count` fosse menor ou igual a 5. Dentro do *loop*, imprimimos o valor de `count` e, em seguida, incrementamos seu valor em 1 com a instrução `count += 1`. Python retorna para o topo do *loop*, e novamente compara `count` com 5. O valor de `count` agora é 2, então o conteúdo do *loop* `while` é novamente executado e a contagem é incrementada em 3.\n",
        "\n",
        "Isso continua até que a contagem seja incrementada de 5 a 6 na parte inferior do *loop*. Na próxima passagem pelo topo, a `contagem <= 5` agora é `False` e o *loop* `while` termina."
      ]
    },
    {
      "cell_type": "markdown",
      "metadata": {
        "id": "kdI0acWAaAqx"
      },
      "source": [
        "\n",
        "\n",
        "```\n",
        "# Isto está formatado como código\n",
        "```\n",
        "\n",
        "### 3.1.1. Cancelando o *loop* com `break`"
      ]
    },
    {
      "cell_type": "markdown",
      "metadata": {
        "id": "kaH4lFglaEXJ"
      },
      "source": [
        "Se você deseja fazer um *loop* até que algo ocorra, mas não tem certeza de quando isso pode acontecer, você pode usar um *loop* infinito com uma **declaração de interrupção**. Desta vez, leremos uma linha de entrada do teclado por meio da função `input()` do Python e a imprimiremos com a primeira letra maiúscula. Interrompemos o *loop* quando uma linha contendo apenas a letra q é digitada:"
      ]
    },
    {
      "cell_type": "code",
      "metadata": {
        "id": "Mnptyr-_acCp"
      },
      "source": [
        "while True:\n",
        "  texto = input('Digite uma palavra [digite s para para sair]: ')\n",
        "  if texto == 's':\n",
        "    break\n",
        "  print(texto.capitalize())"
      ],
      "execution_count": null,
      "outputs": []
    },
    {
      "cell_type": "markdown",
      "metadata": {
        "id": "s1z6FJ22bC5P"
      },
      "source": [
        "### 3.1.2. Avançar o loop com `continue`\n",
        "Às vezes, você não deseja sair de um *loop*, mas quer pular para a próxima iteração por algum motivo. Aqui está um exemplo artificial: vamos ler um número inteiro, imprimir seu quadrado se for ímpar e pular se for par. Novamente, usaremos q para interromper o *loop*:"
      ]
    },
    {
      "cell_type": "code",
      "metadata": {
        "id": "PZcToPcOFFhY",
        "outputId": "b63a9efb-82b7-49fa-de30-110d4fe21d82",
        "colab": {
          "base_uri": "https://localhost:8080/",
          "height": 221
        }
      },
      "source": [
        "while True:\n",
        "  texto = input('Digite uma número inteiro [digite s para para sair]: ')\n",
        "  if texto == 's':\n",
        "    break\n",
        "  numero = int(texto)\n",
        "  if numero % 2 == 0:\n",
        "      continue\n",
        "  print(numero * numero)"
      ],
      "execution_count": null,
      "outputs": [
        {
          "output_type": "stream",
          "text": [
            "Digite uma número inteiro [digite s para para sair]: 9\n",
            "81\n",
            "Digite uma número inteiro [digite s para para sair]: 8\n",
            "Digite uma número inteiro [digite s para para sair]: 3\n",
            "9\n",
            "Digite uma número inteiro [digite s para para sair]: 1\n",
            "1\n",
            "Digite uma número inteiro [digite s para para sair]: 97\n",
            "9409\n",
            "Digite uma número inteiro [digite s para para sair]: 1000007\n",
            "1000014000049\n",
            "Digite uma número inteiro [digite s para para sair]: s\n"
          ],
          "name": "stdout"
        }
      ]
    },
    {
      "cell_type": "markdown",
      "metadata": {
        "id": "43AoPghocZMi"
      },
      "source": [
        "### 3.1.3. Verificar se `break` foi utilizado com `else`\n",
        "Se o *loop* `while` terminou normalmente (sem chamada de interrupção - `break`), o controle passa para outro opcional. Você pode usar isso quando codificar um *loop* `while` para verificar se há alguma restrição e avisar assim que é encontrada. O `else` seria executado se o *loop* `while` fosse concluído, mas a restrição não fosse encontrada. Confira o exemplo a seguir:"
      ]
    },
    {
      "cell_type": "code",
      "metadata": {
        "id": "JmWUN3XtT3yw",
        "outputId": "533cb4f7-dcb2-4ffb-98e2-b9c84a34d7d4",
        "colab": {
          "base_uri": "https://localhost:8080/",
          "height": 85
        }
      },
      "source": [
        "quantidade = int(input('Digite um número maior que zero: '))\n",
        "numero = 1\n",
        "while numero <= quantidade:\n",
        "  print(numero)\n",
        "  if numero % 2 == 0:\n",
        "    print('número par encontrado')\n",
        "    break\n",
        "  numero += 1\n",
        "else:\n",
        "  print('nenhum número par foi encontrado')"
      ],
      "execution_count": null,
      "outputs": [
        {
          "output_type": "stream",
          "text": [
            "Digite um número maior que zero: 7\n",
            "1\n",
            "2\n",
            "número par encontrado\n"
          ],
          "name": "stdout"
        }
      ]
    },
    {
      "cell_type": "markdown",
      "metadata": {
        "id": "oC31JMwaFzdZ"
      },
      "source": [
        "Para relembrar! Uma característica marcante de Python é: a definição dos limites do início e fim dos blocos são feitas com **indentação**. Sempre que andamos espaços para a direita, estamos definindo um novo bloco. Já quando voltamos os espaços, significa que aquele bloco terminou."
      ]
    },
    {
      "cell_type": "markdown",
      "metadata": {
        "id": "fVzxciCZea46"
      },
      "source": [
        "##3.2. Exercícios"
      ]
    },
    {
      "cell_type": "markdown",
      "metadata": {
        "id": "lK34zdC6fLJE"
      },
      "source": [
        "### 3.2.1. Exercício 1: Faça um programa que cadastre o estado civil de uma pessoa, entretanto, o programa deve continuar perguntando enquanto o valor informado for diferente de \"solteiro\" ou \"casado\"."
      ]
    },
    {
      "cell_type": "code",
      "metadata": {
        "id": "Qr97uoAagG_f",
        "outputId": "b9f463ea-442d-4ff6-9c63-dc2898709546",
        "colab": {
          "base_uri": "https://localhost:8080/",
          "height": 153
        }
      },
      "source": [
        "estado_civil = \"\"\n",
        "while estado_civil != \"solteiro\" and estado_civil != \"Solteiro\" and estado_civil != \"casado\" and estado_civil != \"Casado\":\n",
        "  estado_civil = str(input(\"Informe seu estado civil: \"))\n",
        "print(\"Encerrando...\")"
      ],
      "execution_count": null,
      "outputs": [
        {
          "output_type": "stream",
          "text": [
            "Informe seu estado civil: Teste\n",
            "Informe seu estado civil: teste1\n",
            "Informe seu estado civil: teste2\n",
            "Informe seu estado civil: sorteiro\n",
            "Informe seu estado civil: solteiroo\n",
            "Informe seu estado civil: solteirao\n",
            "Informe seu estado civil: solteirona\n",
            "Informe seu estado civil: solteiro\n"
          ],
          "name": "stdout"
        }
      ]
    },
    {
      "cell_type": "markdown",
      "metadata": {
        "id": "5xASByOUgIuR"
      },
      "source": [
        "### 3.2.2. Exercício 2: Faça um programa que leia dois números e mostre um menu com as seguintes opções:\n",
        "\n",
        "[1] Somar\n",
        "[2] Subtrair\n",
        "[3] Dividir\n",
        "[4] Multiplicar\n",
        "[5] Sair do programa.\n",
        "\n",
        "O programa deverá realizar a operação solicitada em cada caso."
      ]
    },
    {
      "cell_type": "code",
      "metadata": {
        "id": "Veyhur6_gNYr"
      },
      "source": [
        "texto_opcao = 's'\n",
        "while texto_opcao == 's':\n",
        "  opcao = int(input(\"Escolha uma opção abaixo: \\n 1 - Somar\\n 2 - Subtrair\\n 3 - Dividir\\n 4 - Multiplicar\\n 5 - Sair do programa\\n Selecione a opção: \"))\n",
        "  if opcao < 1 or opcao > 5:\n",
        "    continue\n",
        "  elif opcao > 0 and opcao < 5:\n",
        "    numero1 = int(input(\"Digite o 1º número para fazer a cálculo: \"))\n",
        "    numero2 = int(input(\"Digite o 2º número para fazer a cálculo: \"))\n",
        "    if opcao == 1:\n",
        "      soma = numero1 + numero2\n",
        "      print(\"A soma dos números: {}\".format(soma))\n",
        "    elif opcao == 2:\n",
        "      subtracao = numero1 - numero2\n",
        "      print(\"A subtração dos números: {}\".format(subtracao))\n",
        "    elif opcao == 3:\n",
        "      divisao = numero1 / numero2\n",
        "      print(\"A divisao dos números: {}\".format(divisao))\n",
        "    else:\n",
        "      multiplicacao = numero1 * numero2\n",
        "      print(\"A multiplicação dos números: {}\".format(multiplicacao))\n",
        "  else:\n",
        "    print(\"Encerrando\")\n",
        "    break\n",
        "  texto_opcao = input(\"Deseja voltar ao menu?\\nDigite a resposta [s/n]:  \")"
      ],
      "execution_count": null,
      "outputs": []
    },
    {
      "cell_type": "markdown",
      "metadata": {
        "id": "vosNGm5BfaQD"
      },
      "source": [
        "### 3.2.3. Exercício 3: Faça um programa que leia um número qualquer e mostre o seu fatorial. \n",
        "\n",
        "Exemplo:  5! = 5 x 4 x 3 x 2 x 1 = 120\n",
        "\n",
        "Input: 5\n",
        "\n",
        "Output: 120"
      ]
    },
    {
      "cell_type": "code",
      "metadata": {
        "id": "CQlkVZWxf8v4",
        "outputId": "c7b1c957-bbf5-4573-bf22-54647fad5546",
        "colab": {
          "base_uri": "https://localhost:8080/",
          "height": 51
        }
      },
      "source": [
        "numero_digitado = int(input(\"Digite um número inteiro: \"))\n",
        "fatorial = 1\n",
        "x = 1\n",
        "while x < numero_digitado:\n",
        "  x = x + 1\n",
        "  fatorial = fatorial * x\n",
        "print(str(numero_digitado) +\"! = \"+ str(fatorial))"
      ],
      "execution_count": null,
      "outputs": [
        {
          "output_type": "stream",
          "text": [
            "Digite um número inteiro: 10\n",
            "10! = 3628800\n"
          ],
          "name": "stdout"
        }
      ]
    },
    {
      "cell_type": "markdown",
      "metadata": {
        "id": "6uWVM2ZEgODD"
      },
      "source": [
        "### 3.2.4. Exercício 4: Faça um programa que leia um número inteiro N e mostre na tela os N primeiros números da Sequência de Fibonacci. \n",
        "\n",
        "Input: 7\n",
        "\n",
        "Output: 0 -> 1 -> 1 -> 2 -> 3 -> 5 -> 8"
      ]
    },
    {
      "cell_type": "code",
      "metadata": {
        "id": "bhFzfmzBg-tw",
        "outputId": "41346ecc-8e25-45d4-a857-b1165ed95778",
        "colab": {
          "base_uri": "https://localhost:8080/",
          "height": 51
        }
      },
      "source": [
        "numero_N = 0\n",
        "x = 0\n",
        "i = 1\n",
        "k = 0\n",
        "cont = 1\n",
        "numero_N = int(input(\"Digite o N fator para realizar a sequência de Fibonacci: \"))\n",
        "while cont < numero_N:\n",
        "  k = x + i\n",
        "  x = i\n",
        "  i = k\n",
        "  print('-> ', i , end=' ')\n",
        "  cont+=1\n",
        "\n"
      ],
      "execution_count": null,
      "outputs": [
        {
          "output_type": "stream",
          "text": [
            "Digite o N fator para realizar a sequência de Fibonacci: 7\n",
            "1 ->  1 2 ->  2 3 ->  3 5 ->  5 8 ->  8 13 ->  13 "
          ],
          "name": "stdout"
        }
      ]
    },
    {
      "cell_type": "markdown",
      "metadata": {
        "id": "KqOT49B0jl7q"
      },
      "source": [
        "### 3.2.5. Exercício 5: Faça um programa que leia vários números inteiros. O programa deverá parar quando o valor for igual a -1. No final, mostre a quantidade de números digitais e a soma deles (o número -1 não deve ser considerado para quantidade e soma solicitada)."
      ]
    },
    {
      "cell_type": "code",
      "metadata": {
        "id": "fy9rvoZ2jb8e"
      },
      "source": [
        "numero_inteiro = 0\n",
        "soma = 0\n",
        "contador = 0\n",
        "controlador = True\n",
        "while controlador != False:\n",
        "  numero_inteiro = int(input(\"Digite um número inteiro: \"))\n",
        "  if numero_inteiro == -1:\n",
        "    controlador = False\n",
        "    break # encerra o laço while diferente do comando continue que ignora o restante do código e volta ao início do laço\n",
        "  soma += numero_inteiro\n",
        "  contador += 1\n",
        "print(\"Quantidade de vezes digitadas: {}\\nSoma dos números digitados: {}\".format(contador, soma))\n",
        "  "
      ],
      "execution_count": null,
      "outputs": []
    },
    {
      "cell_type": "markdown",
      "metadata": {
        "id": "ScGt7O41juFk"
      },
      "source": [
        "### 3.2.6. Exercício 6: Faça um programa que leia vários números. No final, mostre o maior e o menor valor, assim como a média de todos os números. O usuário deverá ser questionado quando deve terminar o programa."
      ]
    },
    {
      "cell_type": "code",
      "metadata": {
        "id": "An_8rOrnkAYA"
      },
      "source": [
        "resposta = \"s\"\n",
        "cont = 1\n",
        "while resposta == 's':\n",
        "  numero_Digitado = float(input(\"Digite o {}º número: \".format(cont)))\n",
        "  guarda_numero = guarda_numero + numero_Digitado;\n",
        "  if numero_Digitado > maior_numero:\n",
        "    maior_numero = numero_Digitado\n",
        "  elif menor_numero > numero_Digitado :\n",
        "    menor_numero = numero_Digitado\n",
        "  media = guarda_numero / cont\n",
        "  cont += 1\n",
        "  resposta = str(input(\"Desejar digitar novamente?\\n Digite sua resposta [s/n]: \"))\n",
        "print(\"Maior número digitado = {}\\nMenor número digitado: {}\\nMédia dos números digitados: {}\".format(maior_numero, menor_numero, media))\n"
      ],
      "execution_count": null,
      "outputs": []
    },
    {
      "cell_type": "markdown",
      "metadata": {
        "id": "_Q6VwWG3kJBe"
      },
      "source": [
        "### 3.2.7. Exercício 7: Faça um programa que mostre a tabuada de um número informado. O programa deverá parar quando o número informado for negativo."
      ]
    },
    {
      "cell_type": "code",
      "metadata": {
        "id": "0XVtTOcCk_jf",
        "outputId": "6cecad6f-5c11-4cbc-907a-797f28e02eaf",
        "colab": {
          "base_uri": "https://localhost:8080/",
          "height": 51
        }
      },
      "source": [
        "cont = 0\n",
        "resposta = \"s\"\n",
        "while resposta == \"s\":\n",
        "  numero_tabuada = int(input(\"Digite um número: \"))\n",
        "  if numero_tabuada >-1:\n",
        "    while cont <= 10:\n",
        "      x = numero_tabuada * cont\n",
        "      print(\"{} X {} = {}\".format(numero_tabuada, cont, x))\n",
        "      cont+=1\n",
        "  else:\n",
        "    print(\"Encerrando, não há tabuada de números negativos!\")\n",
        "    break\n",
        "  cont = 0\n",
        "  resposta = str(input(\"Deseja continuar?\\nDigite sua reposta [s/n]: \"))"
      ],
      "execution_count": null,
      "outputs": [
        {
          "output_type": "stream",
          "text": [
            "Digite um número: -1\n",
            "Encerrando, não há tabuada de números negativos!\n"
          ],
          "name": "stdout"
        }
      ]
    },
    {
      "cell_type": "markdown",
      "metadata": {
        "id": "V39J6eclA5le"
      },
      "source": [
        "### 3.2.8. Exercício 8: Crie um programa que leia a idade e o gênero de cada pessoa. Após cada cadastro o programa deverá perguntar se o usuário deseja continuar ou não cadastrando novas pessoas. No final, o programa deverá mostrar:\n",
        "\n",
        "1.   Quantas pessoas de mais de 18 anos.\n",
        "2.   Quantos homens foram cadastrados.\n",
        "3.   Quantas mulheres com menos de 20 anos foram cadastradas."
      ]
    },
    {
      "cell_type": "code",
      "metadata": {
        "id": "RfnFPzygBYfr"
      },
      "source": [
        "mulheres_menores_20 = 0\n",
        "pessoas_maiores_18 = 0\n",
        "quantidade_homens = 0\n",
        "idade = 0\n",
        "resposta = \"s\"\n",
        "genero = \"\"\n",
        "while resposta == \"s\":\n",
        "  idade = int(input(\"Informe sua idade: \"))\n",
        "  genero = str(input(\"Informe seu genêro [m: masculino | f: feminino]: \"))\n",
        "  if idade > 18:\n",
        "    pessoas_maiores_18 += 1\n",
        "  if idade < 20 and genero == \"f\":\n",
        "    mulheres_menores_20 += 1\n",
        "  elif genero == \"m\" or genero == \"M\":\n",
        "    quantidade_homens += 1\n",
        "  resposta = str(input(\"Deseja continuar?\\nDigite sua resposta [s/n]: \"))\n",
        "print(\"Quantidade de homens cadastrados: {}\\nPessoas maiores de 18 anos: {}\\nMulheres abaixo de 20 anos:{}\".format(quantidade_homens, pessoas_maiores_18, mulheres_menores_20))"
      ],
      "execution_count": null,
      "outputs": []
    },
    {
      "cell_type": "markdown",
      "metadata": {
        "id": "sUac_6Z5H4yI"
      },
      "source": [
        "\n",
        "### 3.2.9. Exercício 9: Crie um programa que leia o nome e o preço de vários produtos. O programa deverá perguntar se o usuário deseja continuar cadastrando novos produtos após cada inserção. No final, o programa deverá mostrar:\n",
        "\n",
        "1. Qual foi o total gasto na compra.\n",
        "2. Quantos produtos custam mais de R$ 100,00.\n",
        "3. Qual é o nome do produto mais barato."
      ]
    },
    {
      "cell_type": "code",
      "metadata": {
        "id": "xoxtLirSJ2Rd"
      },
      "source": [
        "nome_produto = \"\"\n",
        "resposta = \"s\"\n",
        "preco_produto = 0\n",
        "total_compra = 0\n",
        "produtos_maior_100 = 0 # variável que armazenará o valor de quantidade de compras feitas acima de R$100 reais\n",
        "produto_barato = 999.0\n",
        "nome_produto_mais_barato = \"\"\n",
        "while resposta == \"s\":\n",
        "  nome_produto = str(input(\"Informe o nome do produto: \"))\n",
        "  preco_produto = float(input(\"Informe o preço (R$) do produto: \"))\n",
        "  if preco_produto > 100:\n",
        "    produtos_maior_100 += 1\n",
        "  elif preco_produto < produto_barato:\n",
        "    produto_barato = preco_produto\n",
        "    nome_produto_mais_barato = nome_produto\n",
        "  total_compra = total_compra + preco_produto\n",
        "  resposta = str(input(\"Deseja continuar comprando? [s/n]: \"))\n",
        "print(\"\\nTotal de compras: R${} reais\\nQuantidade de produtos que custam mais de R$100,00: {}\".format(total_compra, produtos_maior_100))\n",
        "print(\"Nome do produto mais barato: \"+str(nome_produto_mais_barato))\n"
      ],
      "execution_count": null,
      "outputs": []
    },
    {
      "cell_type": "markdown",
      "metadata": {
        "id": "JJKQoh_MS6KV"
      },
      "source": [
        "### 3.2.10. Exercício 10: Crie um programa que simule o funcionamento de um caixa eletrônico. No início, pergunte ao usuário qual será o valor a ser sacado (número inteiro) e o programa vai informar quantas cédulas de cada valor serão entregues. Considere que o caixa possui cédulas de R\\$50, R\\$20, R\\$10 e R\\$1."
      ]
    },
    {
      "cell_type": "code",
      "metadata": {
        "id": "THQdz-kwizcj"
      },
      "source": [
        ""
      ],
      "execution_count": null,
      "outputs": []
    }
  ]
}