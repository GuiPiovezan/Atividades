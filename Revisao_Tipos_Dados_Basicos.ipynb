{
  "nbformat": 4,
  "nbformat_minor": 0,
  "metadata": {
    "colab": {
      "name": "Revisao_Tipos_Dados_Basicos.ipynb",
      "provenance": [],
      "include_colab_link": true
    },
    "kernelspec": {
      "name": "python3",
      "display_name": "Python 3"
    },
    "language_info": {
      "name": "python"
    }
  },
  "cells": [
    {
      "cell_type": "markdown",
      "metadata": {
        "id": "view-in-github",
        "colab_type": "text"
      },
      "source": [
        "<a href=\"https://colab.research.google.com/github/GuiPiovezan/Atividades/blob/master/Revisao_Tipos_Dados_Basicos.ipynb\" target=\"_parent\"><img src=\"https://colab.research.google.com/assets/colab-badge.svg\" alt=\"Open In Colab\"/></a>"
      ]
    },
    {
      "cell_type": "markdown",
      "metadata": {
        "id": "HXW9DUcS74yk"
      },
      "source": [
        "# **Programa de revisão de conceitos básicos em Python**"
      ]
    },
    {
      "cell_type": "code",
      "metadata": {
        "id": "bM60ViuyiVid"
      },
      "source": [
        "# 01 - primeiro programa\n",
        "print(\"\\nHello, Carlos !\\n\")"
      ],
      "execution_count": null,
      "outputs": []
    },
    {
      "cell_type": "code",
      "metadata": {
        "id": "iPAulsRg61Tw"
      },
      "source": [
        "# 02 - variáveis simples\n",
        "msg = \"Hello, Carlos !\\n\"\n",
        "print(msg)\n",
        "msg = \"Alô, Carlos !\\n\"\n",
        "print(msg)"
      ],
      "execution_count": null,
      "outputs": []
    },
    {
      "cell_type": "code",
      "metadata": {
        "id": "G2jkKyvS6-tN"
      },
      "source": [
        "# 03 - strings e caracteres\n",
        "\n",
        "# 03.1 - aspas simples x duplas\n",
        "msg_simples = 'Simples ...'\n",
        "msg_duplas  = \"Duplas ...\"\n",
        "print(msg_simples)\n",
        "print(msg_duplas)\n",
        "print('\\n')\n",
        "msg_aspas_internas = \"O prof. Carlos disse: 'Oi pessoal !' e todos responderam.\"\n",
        "print(msg_aspas_internas)\n",
        "print('\\n')"
      ],
      "execution_count": null,
      "outputs": []
    },
    {
      "cell_type": "code",
      "metadata": {
        "id": "wwZqNJ277LDb"
      },
      "source": [
        "# 03.2 - manipulação: operações de mudança maiúsculas x minúsculas\n",
        "nome_1 = 'carlos'\n",
        "print(nome_1.title())\n",
        "print(nome_1.lower())\n",
        "print(nome_1.upper())\n",
        "print('\\n')\n",
        "nome_2 = 'MAGNUS'\n",
        "print(nome_2.title())\n",
        "print(nome_2.lower())\n",
        "print(nome_2.upper())\n",
        "print('\\n')"
      ],
      "execution_count": null,
      "outputs": []
    },
    {
      "cell_type": "code",
      "metadata": {
        "id": "aypOwq2S7POz"
      },
      "source": [
        "# 03.3 - concatenação\n",
        "nome_1 = nome_1.title()\n",
        "nome_2 = nome_2.title()\n",
        "print('Nome completo: ' + nome_1 + ' ' + nome_2)"
      ],
      "execution_count": null,
      "outputs": []
    },
    {
      "cell_type": "code",
      "metadata": {
        "id": "onsb8oUY7SJU"
      },
      "source": [
        "# 03.4 - manipulação: eliminação de espaços em branco\n",
        "nome_3 = '  Carlson     '\n",
        "print('Efeito  strip: -' + nome_3.strip()  + '-')\n",
        "print('Efeito lstrip: -' + nome_3.lstrip() + '-')\n",
        "print('Efeito rstrip: -' + nome_3.rstrip() + '-')"
      ],
      "execution_count": null,
      "outputs": []
    },
    {
      "cell_type": "code",
      "metadata": {
        "id": "jq2RbKd37Vti"
      },
      "source": [
        "# 03.5 - \\t : tabulação (inserção de vários espaços em branco)\n",
        "print('\\n')\n",
        "print('\\tCarlos\\n')\n",
        "nome_1 = '\\t' + nome_1\n",
        "print(nome_1)\n",
        "print(nome_1.strip())\n",
        "print('\\n')"
      ],
      "execution_count": null,
      "outputs": []
    },
    {
      "cell_type": "code",
      "metadata": {
        "id": "znwk_Hd67VxD"
      },
      "source": [
        "# 03.6 - caracteres\n",
        "caracter_1 = 'C'\n",
        "print('O caracter é: ' + caracter_1)\n",
        "print(ord(caracter_1))\n",
        "print('A posição do caracter ' + caracter_1 + ' na Tabela ASCII é: ' + str(ord(caracter_1)))\n",
        "print('\\n')"
      ],
      "execution_count": null,
      "outputs": []
    },
    {
      "cell_type": "code",
      "metadata": {
        "id": "Xi5Adzft7g2F"
      },
      "source": [
        "#03.7 - comprimento (qtd caracteres)\n",
        "nome_1 = 'Carlos'\n",
        "nome_2 = 'Magnus'\n",
        "nome_c = nome_1 + ' ' + nome_2\n",
        "print('O primeiro nome (' + nome_1 + ') tem ' + str(len(nome_1)) + ' caracteres.')\n",
        "print('O segundo  nome (' + nome_2 + ') tem ' + str(len(nome_2)) + ' caracteres.')\n",
        "print('O nome completo (' + nome_c + ') tem ' + str(len(nome_c)) + ' caracteres.')\n",
        "print('\\n')"
      ],
      "execution_count": null,
      "outputs": []
    },
    {
      "cell_type": "code",
      "metadata": {
        "id": "lU7CzYud7mQ8"
      },
      "source": [
        "# 04 - números\n",
        "\n",
        "# 04.1 - inteiros\n",
        "num_1 = 6\n",
        "num_2 = 3\n",
        "num_3 = 2\n",
        "print('Adição de ' + str(num_1) + ' com ' + str(num_2) + ' resulta em: ' + str(num_1+num_2))\n",
        "print(num_2-num_3)\n",
        "print(num_1*num_3)\n",
        "print(num_2/num_3)\n",
        "print(num_2//num_3)\n",
        "print(num_2%num_3)\n",
        "print(num_3**num_1)\n",
        "print('\\n')"
      ],
      "execution_count": null,
      "outputs": []
    },
    {
      "cell_type": "code",
      "metadata": {
        "id": "SyuFlXLj7qKy"
      },
      "source": [
        "# 04.2 - reais (floating-point)\n",
        "num_1 = 0.1\n",
        "num_2 = 0.2\n",
        "num_3 = 0.3\n",
        "print(num_1+num_2)\n",
        "print(num_2-num_3)\n",
        "print(num_1*num_3)\n",
        "print(num_2/num_3)\n",
        "print(num_3**num_1)\n",
        "print('\\n')"
      ],
      "execution_count": null,
      "outputs": []
    },
    {
      "cell_type": "code",
      "metadata": {
        "id": "W7IgzVHu7uYO"
      },
      "source": [
        "# 05 - entrada de dados pelo teclado\n",
        "valor = input('Informe o valor desejado: ')\n",
        "print('Você informou o valor: ' + valor + ', porém internamente ele é uma string !')\n",
        "valor = int(valor)\n",
        "print(valor)\n",
        "print('Após conversão, podemos fazer ' + str(valor))\n",
        "print('MAS também podemos fazer sem usar str ... : ',valor)\n",
        "print('\\n')"
      ],
      "execution_count": null,
      "outputs": []
    },
    {
      "cell_type": "code",
      "metadata": {
        "id": "sGy3Fxaw7yFs"
      },
      "source": [
        "#06 - tipo bool (lógico)\n",
        "terminou = False\n",
        "print(terminou)\n",
        "print('Será que terminou ?  Vejamos: ' + str(terminou))\n",
        "terminou = True\n",
        "print('E agora ?  Acho que ficou...: ' + str(terminou))\n",
        "bool_1 = True\n",
        "bool_2 = True\n",
        "print('Sendo bool_1 ' + str(bool_1) + ' e bool_2 ' + str(bool_2) + ', temos:')\n",
        "print('-> bool_1 AND bool_2: ' + str(bool_1 and bool_2))\n",
        "print('-> bool_1 OR  bool_2: ' + str(bool_1 or  bool_2))\n",
        "bool_1 = not bool_1\n",
        "print('Sendo bool_1 ' + str(bool_1) + ' e bool_2 ' + str(bool_2) + ', temos:')\n",
        "print('-> bool_1 AND bool_2: ' + str(bool_1 and bool_2))\n",
        "print('-> bool_1 OR  bool_2: ' + str(bool_1 or  bool_2))\n",
        "print('\\n')"
      ],
      "execution_count": null,
      "outputs": []
    }
  ]
}