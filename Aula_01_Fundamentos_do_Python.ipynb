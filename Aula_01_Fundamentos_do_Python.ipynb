{
  "nbformat": 4,
  "nbformat_minor": 0,
  "metadata": {
    "colab": {
      "name": "Aula 01 - Fundamentos do Python.ipynb",
      "provenance": [],
      "collapsed_sections": [],
      "include_colab_link": true
    },
    "kernelspec": {
      "name": "python3",
      "display_name": "Python 3"
    }
  },
  "cells": [
    {
      "cell_type": "markdown",
      "metadata": {
        "id": "view-in-github",
        "colab_type": "text"
      },
      "source": [
        "<a href=\"https://colab.research.google.com/github/GuiPiovezan/Atividades/blob/master/Aula_01_Fundamentos_do_Python.ipynb\" target=\"_parent\"><img src=\"https://colab.research.google.com/assets/colab-badge.svg\" alt=\"Open In Colab\"/></a>"
      ]
    },
    {
      "cell_type": "markdown",
      "metadata": {
        "id": "IWT9kBSMTj2O",
        "colab_type": "text"
      },
      "source": [
        "#Aula 1 - Fundamentos do Python\n",
        "## Linguagem de Programação (Prof. Dr. Henrique Dezani)\n",
        "Curso de Tecnologia em Análise e Desenvolvimento de Sistemas da Faculdade de Tecnologia de São José do Rio Preto"
      ]
    },
    {
      "cell_type": "markdown",
      "metadata": {
        "id": "Bu_cUAtKULLJ",
        "colab_type": "text"
      },
      "source": [
        "## 1.1. Variáveis"
      ]
    },
    {
      "cell_type": "markdown",
      "metadata": {
        "id": "KMZkvKpJViD_",
        "colab_type": "text"
      },
      "source": [
        "A programação de computadores se baseia basicamente na manipulação de números e textos que, no Python, são chamados de números e strings.\n",
        "\n",
        "Python 3 possui três representações de números embutidas, quais sejam: `int`, `float` e `complex`. Vejamos como podemos declarar variáveis com estes tipos de dados."
      ]
    },
    {
      "cell_type": "code",
      "metadata": {
        "id": "SvZuutlgU1Qh",
        "colab_type": "code",
        "colab": {
          "base_uri": "https://localhost:8080/",
          "height": 34
        },
        "outputId": "d4ef51a2-ca51-4c69-d3eb-ca5278b9d7fd"
      },
      "source": [
        "idade = 38    # declara a variável 'idade' com o valor inteiro (int)\n",
        "print(idade)  # função built-in reponsável por escrever na tela."
      ],
      "execution_count": null,
      "outputs": [
        {
          "output_type": "stream",
          "text": [
            "38\n"
          ],
          "name": "stdout"
        }
      ]
    },
    {
      "cell_type": "code",
      "metadata": {
        "id": "F4S8TtL-WvER",
        "colab_type": "code",
        "colab": {
          "base_uri": "https://localhost:8080/",
          "height": 34
        },
        "outputId": "214673e0-6007-41a6-af25-dc336024e2b5"
      },
      "source": [
        "salario = 752.89 # declara a variável 'salário' com o valor de ponto flutuate (float)\n",
        "print(salario)"
      ],
      "execution_count": null,
      "outputs": [
        {
          "output_type": "stream",
          "text": [
            "752.89\n"
          ],
          "name": "stdout"
        }
      ]
    },
    {
      "cell_type": "code",
      "metadata": {
        "id": "O0aJM6ksW3C4",
        "colab_type": "code",
        "colab": {
          "base_uri": "https://localhost:8080/",
          "height": 34
        },
        "outputId": "0490f979-4ea4-4e30-f84c-c1be429556f5"
      },
      "source": [
        "complexo = 1+2j  # complex (irá exibir o valor armazenado na variável '1+2j')\n",
        "print(complexo)"
      ],
      "execution_count": null,
      "outputs": [
        {
          "output_type": "stream",
          "text": [
            "(1+2j)\n"
          ],
          "name": "stdout"
        }
      ]
    },
    {
      "cell_type": "code",
      "metadata": {
        "id": "FhgqItQf16J9",
        "colab_type": "code",
        "colab": {
          "base_uri": "https://localhost:8080/",
          "height": 34
        },
        "outputId": "e00d6e9c-634a-40bd-ee19-b834404873c4"
      },
      "source": [
        "nome = \"Guilherme\"\n",
        "print(nome)"
      ],
      "execution_count": null,
      "outputs": [
        {
          "output_type": "stream",
          "text": [
            "Guilherme\n"
          ],
          "name": "stdout"
        }
      ]
    },
    {
      "cell_type": "code",
      "metadata": {
        "id": "yx4FUAZY2MqB",
        "colab_type": "code",
        "colab": {
          "base_uri": "https://localhost:8080/",
          "height": 34
        },
        "outputId": "accb7a82-2158-43b7-cfdf-3538c6ab4809"
      },
      "source": [
        "sexo = 'm'\n",
        "print(sexo)"
      ],
      "execution_count": null,
      "outputs": [
        {
          "output_type": "stream",
          "text": [
            "m\n"
          ],
          "name": "stdout"
        }
      ]
    },
    {
      "cell_type": "markdown",
      "metadata": {
        "id": "jD0Cmesubu2N",
        "colab_type": "text"
      },
      "source": [
        "**Exercício 1**: Armazene em variáveis os valores de seu ano de ingresso na Fatec a sua média final na disciplina de Matemática Discreta."
      ]
    },
    {
      "cell_type": "code",
      "metadata": {
        "id": "rsxxqyS7W-wP",
        "colab_type": "code",
        "colab": {
          "base_uri": "https://localhost:8080/",
          "height": 51
        },
        "outputId": "7d9a1bb8-77e0-453d-b93c-1f8aa84b4e90"
      },
      "source": [
        "# digite seu código aqui.\n",
        "ano_ingresso = 2019\n",
        "media_final_md = 7.5\n",
        "\n",
        "print(ano_ingresso)\n",
        "print(media_final_md)"
      ],
      "execution_count": null,
      "outputs": [
        {
          "output_type": "stream",
          "text": [
            "2019\n",
            "7.5\n"
          ],
          "name": "stdout"
        }
      ]
    },
    {
      "cell_type": "markdown",
      "metadata": {
        "id": "pD3riW0mYG9p",
        "colab_type": "text"
      },
      "source": [
        "## 1.2. Built-in functions - 'Funções internas'\n",
        "\n",
        "O interpretador Python possui várias funções que estão sempre disponíveis para uso. Essas funções são chamadas de **funções internas (built-in functions)**. Por exemplo, a função `print()` imprime o objeto fornecido no dispositivo de saída padrão (tela). No Python 3.6 existem 68 funções internas. "
      ]
    },
    {
      "cell_type": "markdown",
      "metadata": {
        "id": "xq0fuMEcZ3yt",
        "colab_type": "text"
      },
      "source": [
        "Vamos supor que seja necessário descobrir os tipos de dados das variáveis declaradas anteriormente. Para tanto, utilizamos a função built-in `type(obj)` , com apenas um parâmetro, a qual retorna o tipo de um objeto."
      ]
    },
    {
      "cell_type": "code",
      "metadata": {
        "id": "p1tPhb8W2bSi",
        "colab_type": "code",
        "colab": {
          "base_uri": "https://localhost:8080/",
          "height": 34
        },
        "outputId": "3a1f0fd0-6a85-4bf3-bf40-80e8512cdb33"
      },
      "source": [
        "type(sexo)"
      ],
      "execution_count": null,
      "outputs": [
        {
          "output_type": "execute_result",
          "data": {
            "text/plain": [
              "str"
            ]
          },
          "metadata": {
            "tags": []
          },
          "execution_count": 13
        }
      ]
    },
    {
      "cell_type": "code",
      "metadata": {
        "id": "t--C-V8y2EOV",
        "colab_type": "code",
        "colab": {
          "base_uri": "https://localhost:8080/",
          "height": 34
        },
        "outputId": "da07cdb8-f943-4c29-dda1-a0498b03c69b"
      },
      "source": [
        "type(nome)"
      ],
      "execution_count": null,
      "outputs": [
        {
          "output_type": "execute_result",
          "data": {
            "text/plain": [
              "str"
            ]
          },
          "metadata": {
            "tags": []
          },
          "execution_count": 10
        }
      ]
    },
    {
      "cell_type": "code",
      "metadata": {
        "id": "FgaU6jOoYXwk",
        "colab_type": "code",
        "colab": {
          "base_uri": "https://localhost:8080/",
          "height": 34
        },
        "outputId": "1ca1be50-929e-4fe8-a4a6-ace5955597ab"
      },
      "source": [
        "type(idade)"
      ],
      "execution_count": null,
      "outputs": [
        {
          "output_type": "execute_result",
          "data": {
            "text/plain": [
              "int"
            ]
          },
          "metadata": {
            "tags": []
          },
          "execution_count": 21
        }
      ]
    },
    {
      "cell_type": "code",
      "metadata": {
        "id": "yH6hTdRkaJ3u",
        "colab_type": "code",
        "colab": {
          "base_uri": "https://localhost:8080/",
          "height": 34
        },
        "outputId": "61b0ee0b-80c9-44cd-a2c9-2fb7f01ba6de"
      },
      "source": [
        "type(salario)"
      ],
      "execution_count": null,
      "outputs": [
        {
          "output_type": "execute_result",
          "data": {
            "text/plain": [
              "float"
            ]
          },
          "metadata": {
            "tags": []
          },
          "execution_count": 7
        }
      ]
    },
    {
      "cell_type": "code",
      "metadata": {
        "id": "fmxidkmWaLvL",
        "colab_type": "code",
        "colab": {
          "base_uri": "https://localhost:8080/",
          "height": 34
        },
        "outputId": "461531fb-6a4f-425f-b85b-efc6c4dc0502"
      },
      "source": [
        "type(complexo)"
      ],
      "execution_count": null,
      "outputs": [
        {
          "output_type": "execute_result",
          "data": {
            "text/plain": [
              "complex"
            ]
          },
          "metadata": {
            "tags": []
          },
          "execution_count": 3
        }
      ]
    },
    {
      "cell_type": "code",
      "metadata": {
        "id": "uFieSS3tfLZj",
        "colab_type": "code",
        "colab": {
          "base_uri": "https://localhost:8080/",
          "height": 34
        },
        "outputId": "22c55c90-02cc-4ba8-927c-b0664054cff6"
      },
      "source": [
        " if isinstance(idade, int):\n",
        "  print('inteiro')\n",
        " else:\n",
        "   print('não inteiro')"
      ],
      "execution_count": null,
      "outputs": [
        {
          "output_type": "stream",
          "text": [
            "inteiro\n"
          ],
          "name": "stdout"
        }
      ]
    },
    {
      "cell_type": "markdown",
      "metadata": {
        "id": "JXV1xi3WcHMI",
        "colab_type": "text"
      },
      "source": [
        "**Exercício 2**: Mostre os tipos de dados das variáveis que você criou no Exercício 1."
      ]
    },
    {
      "cell_type": "code",
      "metadata": {
        "id": "sQ7JagSJaNlY",
        "colab_type": "code",
        "colab": {}
      },
      "source": [
        "# digite seu código aqui.\n",
        "tipo_ano_ingresso = type(ano_ingresso)\n",
        "print(tipo_ano_ingresso)\n",
        "\n",
        "tipo_media_final_md = type(media_final_md)\n",
        "print(tipo_media_final_md)"
      ],
      "execution_count": null,
      "outputs": []
    },
    {
      "cell_type": "markdown",
      "metadata": {
        "id": "K4KCya5jePyF",
        "colab_type": "text"
      },
      "source": [
        "Outras **funções buit-in** permitem realizar a **conversão dos tipos de dados** apresentados anteriormente. Veja os exemplos:"
      ]
    },
    {
      "cell_type": "code",
      "metadata": {
        "id": "UN5sgrYVedMN",
        "colab_type": "code",
        "colab": {
          "base_uri": "https://localhost:8080/",
          "height": 129
        },
        "outputId": "4f38fd3a-7f80-4710-aec6-5a7b6fb1f566"
      },
      "source": [
        "idade_float = float(idade) # converte o valor da variável idade para float\n",
        "print(idade_float)"
      ],
      "execution_count": null,
      "outputs": [
        {
          "output_type": "error",
          "ename": "SyntaxError",
          "evalue": "ignored",
          "traceback": [
            "\u001b[0;36m  File \u001b[0;32m\"<ipython-input-26-18a44fd5599a>\"\u001b[0;36m, line \u001b[0;32m4\u001b[0m\n\u001b[0;31m    if(type(idade_float) == float)\u001b[0m\n\u001b[0m                                  ^\u001b[0m\n\u001b[0;31mSyntaxError\u001b[0m\u001b[0;31m:\u001b[0m invalid syntax\n"
          ]
        }
      ]
    },
    {
      "cell_type": "code",
      "metadata": {
        "id": "LXUm-tAueidH",
        "colab_type": "code",
        "colab": {}
      },
      "source": [
        "salario_int = int(salario) # converte o valor da variável salario para int\n",
        "print(salario_int)"
      ],
      "execution_count": null,
      "outputs": []
    },
    {
      "cell_type": "markdown",
      "metadata": {
        "id": "K6iuk3lKiw-2",
        "colab_type": "text"
      },
      "source": [
        "Além das conversões de tipos de dados, temos diversas **funções built-in** que nos permitem trabalhar com números. Vejamos alguns exemplos:"
      ]
    },
    {
      "cell_type": "code",
      "metadata": {
        "id": "oLKX_ln-ekDS",
        "colab_type": "code",
        "colab": {
          "base_uri": "https://localhost:8080/",
          "height": 34
        },
        "outputId": "e77c6a57-8fdd-446d-d9c0-7d269ad98026"
      },
      "source": [
        "salario_arredondado =  round(salario) # arredonda um número para uma dada quantidade de casas decimais (o padrão é zero casa decimal).\n",
        "print(salario_arredondado)"
      ],
      "execution_count": null,
      "outputs": [
        {
          "output_type": "stream",
          "text": [
            "753\n"
          ],
          "name": "stdout"
        }
      ]
    },
    {
      "cell_type": "code",
      "metadata": {
        "id": "YqCR6ANBAEiJ",
        "colab_type": "code",
        "colab": {
          "base_uri": "https://localhost:8080/",
          "height": 170
        },
        "outputId": "0606793f-c781-45e9-a37e-269a1a32a27c"
      },
      "source": [
        "help(round)"
      ],
      "execution_count": null,
      "outputs": [
        {
          "output_type": "stream",
          "text": [
            "Help on built-in function round in module builtins:\n",
            "\n",
            "round(...)\n",
            "    round(number[, ndigits]) -> number\n",
            "    \n",
            "    Round a number to a given precision in decimal digits (default 0 digits).\n",
            "    This returns an int when called with one argument, otherwise the\n",
            "    same type as the number. ndigits may be negative.\n",
            "\n"
          ],
          "name": "stdout"
        }
      ]
    },
    {
      "cell_type": "code",
      "metadata": {
        "id": "ZFWCrzA1AVhp",
        "colab_type": "code",
        "colab": {}
      },
      "source": [
        "?round"
      ],
      "execution_count": null,
      "outputs": []
    },
    {
      "cell_type": "code",
      "metadata": {
        "id": "dwsO2Twxi_R2",
        "colab_type": "code",
        "colab": {
          "base_uri": "https://localhost:8080/",
          "height": 34
        },
        "outputId": "031af192-f39a-4d2c-e2a4-8a914681fa78"
      },
      "source": [
        "salario_arredondado =  round(salario, 1) # arredonda o número usando 1 casa decimal.\n",
        "print(salario_arredondado)"
      ],
      "execution_count": null,
      "outputs": [
        {
          "output_type": "stream",
          "text": [
            "752.9\n"
          ],
          "name": "stdout"
        }
      ]
    },
    {
      "cell_type": "code",
      "metadata": {
        "id": "eMYhb9FRmD4h",
        "colab_type": "code",
        "colab": {}
      },
      "source": [
        "valor_absoluto = abs(-10) # retorna o valor absoluto de um número.\n",
        "print(valor_absoluto)"
      ],
      "execution_count": null,
      "outputs": []
    },
    {
      "cell_type": "code",
      "metadata": {
        "id": "ED0pWTnynki3",
        "colab_type": "code",
        "colab": {}
      },
      "source": [
        "maior_valor = max(1, 7, 10, 3) # retorna o maior valor de uma coleção de números.\n",
        "print(maior_valor)"
      ],
      "execution_count": null,
      "outputs": []
    },
    {
      "cell_type": "code",
      "metadata": {
        "id": "Gv0-gt2fJqVn",
        "colab_type": "code",
        "colab": {
          "base_uri": "https://localhost:8080/",
          "height": 34
        },
        "outputId": "4f5d8f2b-27e4-46a1-9e02-710dd8c8c359"
      },
      "source": [
        "menor_valor = min(1,10,-1.1,-1.11)\n",
        "print(menor_valor)"
      ],
      "execution_count": null,
      "outputs": [
        {
          "output_type": "stream",
          "text": [
            "-1.11\n"
          ],
          "name": "stdout"
        }
      ]
    },
    {
      "cell_type": "code",
      "metadata": {
        "id": "kehsU2fjohfs",
        "colab_type": "code",
        "colab": {
          "base_uri": "https://localhost:8080/",
          "height": 51
        },
        "outputId": "1d61b92e-eb31-4c91-9141-5b406becb877"
      },
      "source": [
        "quadrado = pow(10, 2) # retorna a potência (2) de um número (10).\n",
        "print(quadrado)\n",
        "cubo = pow(10, 3)\n",
        "print(cubo)"
      ],
      "execution_count": null,
      "outputs": [
        {
          "output_type": "stream",
          "text": [
            "100\n",
            "1000\n"
          ],
          "name": "stdout"
        }
      ]
    },
    {
      "cell_type": "code",
      "metadata": {
        "id": "ESH0IWsjmqdb",
        "colab_type": "code",
        "colab": {
          "base_uri": "https://localhost:8080/",
          "height": 51
        },
        "outputId": "7b846b90-30b9-4b32-e0d7-6198619f11bd"
      },
      "source": [
        "binario = bin(9) # retorna o valor binário de um número inteiro.\n",
        "print(binario)\n",
        "type(binario)"
      ],
      "execution_count": null,
      "outputs": [
        {
          "output_type": "stream",
          "text": [
            "0b1001\n"
          ],
          "name": "stdout"
        },
        {
          "output_type": "execute_result",
          "data": {
            "text/plain": [
              "str"
            ]
          },
          "metadata": {
            "tags": []
          },
          "execution_count": 18
        }
      ]
    },
    {
      "cell_type": "code",
      "metadata": {
        "id": "iCKaNE2Bm4RW",
        "colab_type": "code",
        "colab": {
          "base_uri": "https://localhost:8080/",
          "height": 221
        },
        "outputId": "a1d2b8ab-e432-4d43-e7cf-2d6891be58c5"
      },
      "source": [
        "help('print') # mostra a documentação da função. Utilizado apenas para auxiliar na programação no software.\n",
        "?print # mostra a documentção da função em docstring."
      ],
      "execution_count": null,
      "outputs": [
        {
          "output_type": "stream",
          "text": [
            "Help on built-in function print in module builtins:\n",
            "\n",
            "print(...)\n",
            "    print(value, ..., sep=' ', end='\\n', file=sys.stdout, flush=False)\n",
            "    \n",
            "    Prints the values to a stream, or to sys.stdout by default.\n",
            "    Optional keyword arguments:\n",
            "    file:  a file-like object (stream); defaults to the current sys.stdout.\n",
            "    sep:   string inserted between values, default a space.\n",
            "    end:   string appended after the last value, default a newline.\n",
            "    flush: whether to forcibly flush the stream.\n",
            "\n"
          ],
          "name": "stdout"
        }
      ]
    },
    {
      "cell_type": "markdown",
      "metadata": {
        "id": "226-k7wLsjdK",
        "colab_type": "text"
      },
      "source": [
        "## 1.3. Comandos de Entrada e Saída\n",
        "Os comandos de entrada e saída permitem que possamos interagir com o programa, recebendo *feedback* dos resultados computados ou realizando a entrada de dados para o sistema. Ambos os comandos consistem em funções built-in, quais seja: `print()`, vista anteriormente, e `input('texto do prompt')` para entrada de dados. Vejamos um exemplo."
      ]
    },
    {
      "cell_type": "code",
      "metadata": {
        "id": "qGm4cVJBsoXD",
        "colab_type": "code",
        "colab": {
          "base_uri": "https://localhost:8080/",
          "height": 51
        },
        "outputId": "0e8587c3-0d17-46b9-e2ed-6bcbbd651550"
      },
      "source": [
        "nome = input('Digite o seu nome: ') # apresenta um elemento para entrada de dados com o label escrito como argumento.\n",
        "print(nome)"
      ],
      "execution_count": null,
      "outputs": [
        {
          "output_type": "stream",
          "text": [
            "Digite o seu nome: Guilherme\n",
            "Guilherme\n"
          ],
          "name": "stdout"
        }
      ]
    },
    {
      "cell_type": "code",
      "metadata": {
        "id": "KTI4mQDdtNSa",
        "colab_type": "code",
        "colab": {
          "base_uri": "https://localhost:8080/",
          "height": 34
        },
        "outputId": "985158e0-9c1f-4839-d8a0-8e656accd69d"
      },
      "source": [
        "type(nome) # toda entrada de dados obtida pela função built-in input() é uma string!"
      ],
      "execution_count": null,
      "outputs": [
        {
          "output_type": "execute_result",
          "data": {
            "text/plain": [
              "str"
            ]
          },
          "metadata": {
            "tags": []
          },
          "execution_count": 35
        }
      ]
    },
    {
      "cell_type": "markdown",
      "metadata": {
        "id": "2vnECMcqlvJA",
        "colab_type": "text"
      },
      "source": [
        "Portanto, se quisermos obter um número (inteiro ou ponto flutuante) digitado por um usuário, devemos receber a string da função built-in `input()` e, em seguida, realizar as conversões necessárias, utilizando as funções built-in `int()` ou `float()`. Veja o exemplo a seguir:"
      ]
    },
    {
      "cell_type": "code",
      "metadata": {
        "id": "-P7TaDnEtiaj",
        "colab_type": "code",
        "colab": {
          "base_uri": "https://localhost:8080/",
          "height": 51
        },
        "outputId": "23bc6f2f-0c7c-4365-e9cf-07720e8090b3"
      },
      "source": [
        "idade_str = input('Qual a sua idade? ')\n",
        "idade_int = int(idade_str)\n",
        "print(idade_int)"
      ],
      "execution_count": null,
      "outputs": [
        {
          "output_type": "stream",
          "text": [
            "Qual a sua idade? 19\n",
            "19\n"
          ],
          "name": "stdout"
        }
      ]
    },
    {
      "cell_type": "code",
      "metadata": {
        "id": "EA06xY15SCaa",
        "colab_type": "code",
        "colab": {
          "base_uri": "https://localhost:8080/",
          "height": 34
        },
        "outputId": "29cd5e71-4d72-4ea4-c27a-ff45b179c486"
      },
      "source": [
        "type(idade_str)"
      ],
      "execution_count": null,
      "outputs": [
        {
          "output_type": "execute_result",
          "data": {
            "text/plain": [
              "str"
            ]
          },
          "metadata": {
            "tags": []
          },
          "execution_count": 37
        }
      ]
    },
    {
      "cell_type": "code",
      "metadata": {
        "id": "pvin7a3YSD8u",
        "colab_type": "code",
        "colab": {
          "base_uri": "https://localhost:8080/",
          "height": 34
        },
        "outputId": "158a855a-a354-4b45-9dd9-a8f3e20c7e86"
      },
      "source": [
        "type(idade_int)"
      ],
      "execution_count": null,
      "outputs": [
        {
          "output_type": "execute_result",
          "data": {
            "text/plain": [
              "int"
            ]
          },
          "metadata": {
            "tags": []
          },
          "execution_count": 36
        }
      ]
    },
    {
      "cell_type": "markdown",
      "metadata": {
        "id": "Jc4X63WOLLFQ",
        "colab_type": "text"
      },
      "source": [
        "**Para pensar**: E se o valor informado pelo usuário não for um número inteiro? Ou seja, e se o usuário digitou a letra a? Neste caso, uma exceção (erro) será disparada. Em aulas futuras estudaremos como tratar as exceções."
      ]
    },
    {
      "cell_type": "markdown",
      "metadata": {
        "id": "hWwDstTYmvxR",
        "colab_type": "text"
      },
      "source": [
        "**Exerício 3**: Refaça o Exercício 1 de maneira que os dados sejam informados pelo usuário."
      ]
    },
    {
      "cell_type": "code",
      "metadata": {
        "id": "ete56QllmxX9",
        "colab_type": "code",
        "colab": {
          "base_uri": "https://localhost:8080/",
          "height": 51
        },
        "outputId": "adc8e6bd-d275-4d25-876c-5cd5f2060771"
      },
      "source": [
        "# digite seu código aqui.\n",
        "ano_ingresso_str = input('Digite o seu ano de ingresso: ')\n",
        "ano_ingresso = int(ano_ingresso_str)\n",
        "print(\"Data de ingressso em \", ano_ingresso)"
      ],
      "execution_count": null,
      "outputs": [
        {
          "output_type": "stream",
          "text": [
            "Digite o seu ano de ingresso: 2020\n",
            "Data de ingressso em  2020\n"
          ],
          "name": "stdout"
        }
      ]
    },
    {
      "cell_type": "markdown",
      "metadata": {
        "id": "cbrEPthNDR63",
        "colab_type": "text"
      },
      "source": [
        "##1.4 Operações Aritméticas\n",
        "Para realizar as operações aritméticas, utilizamos os símbolos + (soma), - (subtração), * (multiplicação) e / (divisão).\n",
        "É importante lembrar que temos a precedência das operações () /* +-"
      ]
    },
    {
      "cell_type": "code",
      "metadata": {
        "id": "LlwZtZtiDdyY",
        "colab_type": "code",
        "colab": {
          "base_uri": "https://localhost:8080/",
          "height": 170
        },
        "outputId": "fd8be9b6-2636-42ed-ce7d-41a38a307a78"
      },
      "source": [
        "numero1 = int(input('Digite o primeiro número'))\n",
        "numero2 = int(input('Digite o segundo número'))\n",
        "\n",
        "soma = numero1 + numero2\n",
        "print(soma)\n",
        "\n",
        "subtracao = numero1 - numero2\n",
        "print(subtracao)\n",
        "\n",
        "multiplicacao = numero1 * numero2\n",
        "print(multiplicacao)\n",
        "\n",
        "divisao = numero1 / numero2\n",
        "print(divisao)\n",
        "\n",
        "divisao_inteira = numero1 // numero2\n",
        "print(divisao_inteira)\n",
        "\n",
        "modulo = numero1 % numero2\n",
        "print(modulo)               # 0 número par, 1 número ímpar\n",
        "\n",
        "potencia = numero1 ** numero2\n",
        "print(potencia)"
      ],
      "execution_count": null,
      "outputs": [
        {
          "output_type": "stream",
          "text": [
            "Digite o primeiro número3\n",
            "Digite o segundo número1\n",
            "4\n",
            "2\n",
            "3\n",
            "3.0\n",
            "3\n",
            "0\n",
            "3\n"
          ],
          "name": "stdout"
        }
      ]
    },
    {
      "cell_type": "markdown",
      "metadata": {
        "id": "_Vh7l_21Kgpc",
        "colab_type": "text"
      },
      "source": [
        "## 1.5. O Poder do Print (versão 3.6)"
      ]
    },
    {
      "cell_type": "code",
      "metadata": {
        "id": "vnjCzuuhOZIo",
        "colab_type": "code",
        "colab": {}
      },
      "source": [
        "print(\"Olá\")"
      ],
      "execution_count": null,
      "outputs": []
    },
    {
      "cell_type": "code",
      "metadata": {
        "id": "Ubtp1USAQXHT",
        "colab_type": "code",
        "colab": {
          "base_uri": "https://localhost:8080/",
          "height": 34
        },
        "outputId": "8cd53646-2660-48a0-86dc-f710ebc39ddc"
      },
      "source": [
        "nome = \"Guilherme\"\n",
        "sobrenome = \"Piovezan\"\n",
        "\n",
        "print(\"Olá, \" + nome + \" \" + sobrenome) # concatenação"
      ],
      "execution_count": null,
      "outputs": [
        {
          "output_type": "stream",
          "text": [
            "Olá, Guilherme Piovezan\n"
          ],
          "name": "stdout"
        }
      ]
    },
    {
      "cell_type": "code",
      "metadata": {
        "id": "AyJ7-mfKQZUr",
        "colab_type": "code",
        "colab": {
          "base_uri": "https://localhost:8080/",
          "height": 34
        },
        "outputId": "91e8148d-8fe9-46a2-d837-7379282beda8"
      },
      "source": [
        "print(\"Olá, \" + nome + \" \" + sobrenome + \", tudo bem?\") # concatenação"
      ],
      "execution_count": null,
      "outputs": [
        {
          "output_type": "stream",
          "text": [
            "Olá, Guilherme Piovezan, tudo bem?\n"
          ],
          "name": "stdout"
        }
      ]
    },
    {
      "cell_type": "code",
      "metadata": {
        "id": "wMZGFVYOQbcM",
        "colab_type": "code",
        "colab": {
          "base_uri": "https://localhost:8080/",
          "height": 34
        },
        "outputId": "e5b8a233-32fe-43cf-a6a1-e008b1403b6e"
      },
      "source": [
        "print(\"Olá, \", nome, ' ',sobrenome, \", tudo bem?\", sep='\\t') # concatenação"
      ],
      "execution_count": null,
      "outputs": [
        {
          "output_type": "stream",
          "text": [
            "Olá, \tGuilherme\t \tPiovezan\t, tudo bem?\n"
          ],
          "name": "stdout"
        }
      ]
    },
    {
      "cell_type": "code",
      "metadata": {
        "id": "txCpwLWvQd0e",
        "colab_type": "code",
        "colab": {
          "base_uri": "https://localhost:8080/",
          "height": 34
        },
        "outputId": "b9ded759-fbc5-4e4c-9658-0b5902a0a75a"
      },
      "source": [
        "print(\"Olá, {}, tudo bem?\".format(nome)) #interpolação"
      ],
      "execution_count": null,
      "outputs": [
        {
          "output_type": "stream",
          "text": [
            "Olá, Guilherme, tudo bem?\n"
          ],
          "name": "stdout"
        }
      ]
    },
    {
      "cell_type": "code",
      "metadata": {
        "id": "PxdqOu6RQgKy",
        "colab_type": "code",
        "colab": {
          "base_uri": "https://localhost:8080/",
          "height": 34
        },
        "outputId": "7c0e8bf5-dd64-4d89-b810-1ac24c577ba9"
      },
      "source": [
        "print(\"Olá, {} {} {}, tudo bem?\".format(nome, sobrenome, nome)) #interpolação de duas variáveis"
      ],
      "execution_count": null,
      "outputs": [
        {
          "output_type": "stream",
          "text": [
            "Olá, Guilherme Piovezan Guilherme, tudo bem?\n"
          ],
          "name": "stdout"
        }
      ]
    },
    {
      "cell_type": "code",
      "metadata": {
        "id": "-jhXLmksQjc0",
        "colab_type": "code",
        "colab": {}
      },
      "source": [
        "print(\"Olá, {0} {1} {0}, tudo bem?\".format(nome, sobrenome)) # interpolação, passando os índices"
      ],
      "execution_count": null,
      "outputs": []
    },
    {
      "cell_type": "code",
      "metadata": {
        "id": "NyDnvsdqQoDa",
        "colab_type": "code",
        "colab": {
          "base_uri": "https://localhost:8080/",
          "height": 34
        },
        "outputId": "df58ded7-e4a6-4436-cc1e-9fdd960edbc3"
      },
      "source": [
        "print(\"!{:>20}\".format(nome)) # alinha a variável à esquerda no texto."
      ],
      "execution_count": null,
      "outputs": [
        {
          "output_type": "stream",
          "text": [
            "!           Guilherme\n"
          ],
          "name": "stdout"
        }
      ]
    },
    {
      "cell_type": "code",
      "metadata": {
        "id": "wpkq3V3_QpmB",
        "colab_type": "code",
        "colab": {
          "base_uri": "https://localhost:8080/",
          "height": 34
        },
        "outputId": "cbbc8acb-fc37-4d07-fc59-738df44c2892"
      },
      "source": [
        "print(\"!{:<20}!\".format(nome)) # alinha a variável à direita no texto."
      ],
      "execution_count": null,
      "outputs": [
        {
          "output_type": "stream",
          "text": [
            "!Guilherme           !\n"
          ],
          "name": "stdout"
        }
      ]
    },
    {
      "cell_type": "code",
      "metadata": {
        "id": "su9NIxowQrAE",
        "colab_type": "code",
        "colab": {}
      },
      "source": [
        "print(\"!{:^20}!\".format(nome)) # centraliza o texto dentro da quantidade máxima de caracteres"
      ],
      "execution_count": null,
      "outputs": []
    },
    {
      "cell_type": "code",
      "metadata": {
        "id": "uG279f4UQsw4",
        "colab_type": "code",
        "colab": {
          "base_uri": "https://localhost:8080/",
          "height": 34
        },
        "outputId": "5db53449-eeaa-4b57-f518-ea09bd3c2b60"
      },
      "source": [
        "print(\"!{:=^20}!\".format(nome)) # adiciona o símbolo '=' nos espaços"
      ],
      "execution_count": null,
      "outputs": [
        {
          "output_type": "stream",
          "text": [
            "!=====Guilherme======!\n"
          ],
          "name": "stdout"
        }
      ]
    },
    {
      "cell_type": "code",
      "metadata": {
        "id": "6-5o5LBNQvHq",
        "colab_type": "code",
        "colab": {
          "base_uri": "https://localhost:8080/",
          "height": 51
        },
        "outputId": "cce4ddfb-b2e2-4d63-8357-4207acda3e42"
      },
      "source": [
        "print(\"Olá\", end=' ') # define o caracter final (padrão '\\n')\n",
        "print(\"Mundo\")\n",
        "print(\"Novo\")"
      ],
      "execution_count": null,
      "outputs": [
        {
          "output_type": "stream",
          "text": [
            "Olá Mundo\n",
            "Novo\n"
          ],
          "name": "stdout"
        }
      ]
    },
    {
      "cell_type": "code",
      "metadata": {
        "id": "bhYKCTL1t5gj",
        "colab_type": "code",
        "colab": {
          "base_uri": "https://localhost:8080/",
          "height": 34
        },
        "outputId": "770cc177-1ec5-40bc-ff46-bda711007e3a"
      },
      "source": [
        "numero_float = 3.2353523\n",
        "print(\"{:.2f}\".format(numero_float)) # formata a saída float com 2 casas decimais."
      ],
      "execution_count": null,
      "outputs": [
        {
          "output_type": "stream",
          "text": [
            "3.24\n"
          ],
          "name": "stdout"
        }
      ]
    },
    {
      "cell_type": "markdown",
      "metadata": {
        "id": "Qp2PD3gjK3zK",
        "colab_type": "text"
      },
      "source": [
        "## 1.6. Exercícios"
      ]
    },
    {
      "cell_type": "markdown",
      "metadata": {
        "id": "1sFYLEw9LExi",
        "colab_type": "text"
      },
      "source": [
        "### 1.6.1. Exercício 1: Implemente um programa que leia um número inteiro e mostre seu sucessor e seu antecessor."
      ]
    },
    {
      "cell_type": "code",
      "metadata": {
        "id": "7qa78cl6F_DT",
        "colab_type": "code",
        "colab": {
          "base_uri": "https://localhost:8080/",
          "height": 85
        },
        "outputId": "2c35befa-6b06-4c66-b6a1-9a867b412e93"
      },
      "source": [
        "numero_1 = int(input(\"Digite o primeiro número: \"))\n",
        "#numero_1_int = numero_1(int)\n",
        "antecessor = numero_1 - 1\n",
        "sucessor = numero_1 + 1\n",
        "print(\"Número digitado: {}\\n Seu antecessor: {}\\n Seu sucessor: {}\".format(numero_1, antecessor, sucessor))"
      ],
      "execution_count": null,
      "outputs": [
        {
          "output_type": "stream",
          "text": [
            "Digite o primeiro número: 10\n",
            "Número digitado: 10\n",
            " seu antecessor: 9\n",
            " seu sucessor: 11\n"
          ],
          "name": "stdout"
        }
      ]
    },
    {
      "cell_type": "markdown",
      "metadata": {
        "id": "YGNNJ49PLQrd",
        "colab_type": "text"
      },
      "source": [
        "### 1.6.2. Exercício 2: Implemente um programa que leia um número inteiro e mostre seu dobro e seu triplo.\n",
        "\n"
      ]
    },
    {
      "cell_type": "code",
      "metadata": {
        "id": "JWHIiEEPLf_5",
        "colab_type": "code",
        "colab": {
          "base_uri": "https://localhost:8080/",
          "height": 68
        },
        "outputId": "3806003e-d451-4684-a137-cb271c284ead"
      },
      "source": [
        "numero_inteiro = int(input(\"Digite um número inteiro: \"))\n",
        "dobro_numero_inteiro = numero_inteiro * 2\n",
        "triplo_numero_inteiro = numero_inteiro * 3\n",
        "print(\"Seu dobro: {} X 2 = {}\\nSeu triplo: {} X 3 = {}\".format(numero_inteiro, dobro_numero_inteiro,numero_inteiro, triplo_numero_inteiro))"
      ],
      "execution_count": null,
      "outputs": [
        {
          "output_type": "stream",
          "text": [
            "Digite um número inteiro: 2\n",
            "Seu dobro: 2 X 2 = 4\n",
            "Seu triplo: 2 X 3 = 6\n"
          ],
          "name": "stdout"
        }
      ]
    },
    {
      "cell_type": "markdown",
      "metadata": {
        "id": "swyaOI96LgsH",
        "colab_type": "text"
      },
      "source": [
        "### 1.6.3. Exercício 3: Implemente um programa que leia 4 notas de um aluno e mostre a média aritmética."
      ]
    },
    {
      "cell_type": "code",
      "metadata": {
        "id": "aq0J1MB3LtNA",
        "colab_type": "code",
        "colab": {
          "base_uri": "https://localhost:8080/",
          "height": 102
        },
        "outputId": "be580916-3632-44e3-c165-1354af6e30eb"
      },
      "source": [
        "nota1 = float(input(\"Digite a primeira nota: \"))\n",
        "nota2 = float(input(\"Digite a segunda nota: \"))\n",
        "nota3 = float(input(\"Digite a terceira nota: \"))\n",
        "nota4 = float(input(\"Digite a quarta nota: \"))\n",
        "media_notas = (nota1 + nota2 + nota2 + nota4) / 4\n",
        "print(\"Média de notas: {}\".format(media_notas))\n"
      ],
      "execution_count": null,
      "outputs": [
        {
          "output_type": "stream",
          "text": [
            "Digite a primeira nota: 10\n",
            "Digite a segunda nota: 10\n",
            "Digite a terceira nota: 10\n",
            "Digite a quarta nota: 9\n",
            "Média de notas: 9.75\n"
          ],
          "name": "stdout"
        }
      ]
    },
    {
      "cell_type": "markdown",
      "metadata": {
        "id": "DsgRMCZ7L7wC",
        "colab_type": "text"
      },
      "source": [
        "### 1.6.4. Exercício 4: Implemente um programa que leia um valor em metros e mostre seu valor em centímetros e em milímetros."
      ]
    },
    {
      "cell_type": "code",
      "metadata": {
        "id": "4u3M2Y2TMGMM",
        "colab_type": "code",
        "colab": {
          "base_uri": "https://localhost:8080/",
          "height": 85
        },
        "outputId": "a49d6bda-d1e9-4c31-a19b-57aca451a615"
      },
      "source": [
        "valor_metros = float(input(\"Digite um valor em unidade de medida metros: \"))\n",
        "valor_centimetros = valor_metros * 100\n",
        "valor_milimitros = valor_metros * 1000\n",
        "print(\"Valor digitado: {:.2f}m \\nValor convertido para centímetros: {:.2f}cm \\nValor convertido para milímetros: {}mm\".format(valor_metros, valor_centimetros, valor_milimitros))"
      ],
      "execution_count": null,
      "outputs": [
        {
          "output_type": "stream",
          "text": [
            "Digite um valor em unidade de medida metros: 3\n",
            "Valor digitado: 3.00m \n",
            "Valor convertido para centímetros: 300.00cm \n",
            "Valor convertido para milímetros: 3000.0mm\n"
          ],
          "name": "stdout"
        }
      ]
    },
    {
      "cell_type": "markdown",
      "metadata": {
        "id": "hxmxjdvFMG2Y",
        "colab_type": "text"
      },
      "source": [
        "### 1.6.5. Exercício 5: Implemente um programa que tenha como entrada o valor em reais e mostre o valor correspondente em dolar."
      ]
    },
    {
      "cell_type": "code",
      "metadata": {
        "id": "FrU_D4X-MjHF",
        "colab_type": "code",
        "colab": {
          "base_uri": "https://localhost:8080/",
          "height": 51
        },
        "outputId": "d98f01e2-7086-4ccc-fc54-5d9595c5be05"
      },
      "source": [
        "valor_reais = float(input(\"Digite um valor em reais (R$): \"))\n",
        "valor_dolar = valor_reais / 5.58\n",
        "print(\"1 Dólar Americano corresponde a R$5,58 reais então, R${:.2f} reais em Dólar Americano seria U$${:.2f} dolares\".format(valor_reais, valor_dolar))"
      ],
      "execution_count": null,
      "outputs": [
        {
          "output_type": "stream",
          "text": [
            "Digite um valor em reais (R$): 20\n",
            "1 Dólar Americano corresponde a R$5,58 reais então, R$20.00 reais em Dólar Americano seria U$$3.58 dolares\n"
          ],
          "name": "stdout"
        }
      ]
    },
    {
      "cell_type": "markdown",
      "metadata": {
        "id": "Dqns4l5kMmJy",
        "colab_type": "text"
      },
      "source": [
        "### 1.6.6. Exercício 6: Supondo que queremos pintar o muro da instituição, faça um programa que leia a altura e a largura do muro e mostre a quantidade de tinta necessária (1 litro de tinta pode pintar uma área de 2 metros quadrados)."
      ]
    },
    {
      "cell_type": "code",
      "metadata": {
        "id": "uAcOlRc_NSzQ",
        "colab_type": "code",
        "colab": {
          "base_uri": "https://localhost:8080/",
          "height": 68
        },
        "outputId": "31ea45f5-3fd3-4efc-ba65-99cb1aa20313"
      },
      "source": [
        "altura_muro = float(input(\"Digite a altura (em metros) do muro: \"))\n",
        "largura_muro = float(input(\"Digite a largura (em metros) do muro: \"))\n",
        "area_muro = largura_muro * altura_muro\n",
        "quantidade_tinta = area_muro/2\n",
        "print(\"Para uma área de muro igual a {}m² será necessário {} litros de tinta.\".format(area_muro, quantidade_tinta))"
      ],
      "execution_count": null,
      "outputs": [
        {
          "output_type": "stream",
          "text": [
            "Digite a altura (em metros) do muro: 3\n",
            "Digite a largura (em metros) do muro: 3\n",
            "Para uma área de muro igual a 9.0 m² será necessário 4.5 litros de tinta.\n"
          ],
          "name": "stdout"
        }
      ]
    },
    {
      "cell_type": "markdown",
      "metadata": {
        "id": "I7XP4jAmNkAl",
        "colab_type": "text"
      },
      "source": [
        "### 1.6.7. Exercício 7: Faça um programa que leia o preço de um produto e mostre o valor com 5% de desconto."
      ]
    },
    {
      "cell_type": "code",
      "metadata": {
        "id": "Gxbl66NjNbKj",
        "colab_type": "code",
        "colab": {
          "base_uri": "https://localhost:8080/",
          "height": 51
        },
        "outputId": "32707558-ec69-46df-c062-db0c7f62c292"
      },
      "source": [
        "valor_produto = float(input(\"Digite o valor do produto: \"))\n",
        "desconto_produto = valor_produto - (valor_produto * 0.05) \n",
        "print(\"O produto custa R${:.2f} reais, e com desconto de 5% ficará R${:.2f} reais\".format(valor_produto, desconto_produto))"
      ],
      "execution_count": null,
      "outputs": [
        {
          "output_type": "stream",
          "text": [
            "Digite o valor do produto: 1000\n",
            "O produto custa R$1000.00 reais, e com desconto de 5% ficará R$950.00 reais\n"
          ],
          "name": "stdout"
        }
      ]
    },
    {
      "cell_type": "markdown",
      "metadata": {
        "id": "aqeF-HYrNl2m",
        "colab_type": "text"
      },
      "source": [
        "### 1.6.8. Exercício 8: Faça um programa que leia o salário de um colaborador e calcule seu salário com um aumento de 15%."
      ]
    },
    {
      "cell_type": "code",
      "metadata": {
        "id": "kORS1l_-N0Yw",
        "colab_type": "code",
        "colab": {
          "base_uri": "https://localhost:8080/",
          "height": 51
        },
        "outputId": "7bf97d3d-29aa-4b08-ad99-7d2f076b4322"
      },
      "source": [
        "salario_funcionario = float(input(\"Digite o salário do colaborador: \"))\n",
        "novo_salario_acrescimo = salario_funcionario + (salario_funcionario * 0.15)\n",
        "print(\"O salário inicial do colaborador será de R${:.2f} reais com acréscimo de 15% o novo valor ficará em R${:.2f} reais\".format(salario_funcionario, novo_salario_acrescimo))"
      ],
      "execution_count": null,
      "outputs": [
        {
          "output_type": "stream",
          "text": [
            "Digite o salário do colaborador: 2000\n",
            "O salário inicial do colaborador será de R$2000.00 reais com acréscimo de 15% o novo valor ficará em R$2300.00 reais\n"
          ],
          "name": "stdout"
        }
      ]
    }
  ]
}