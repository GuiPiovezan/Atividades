{
  "nbformat": 4,
  "nbformat_minor": 0,
  "metadata": {
    "colab": {
      "name": "Aula 02 - Estrutura Condicional.ipynb",
      "provenance": [],
      "collapsed_sections": [],
      "include_colab_link": true
    },
    "kernelspec": {
      "name": "python3",
      "display_name": "Python 3"
    }
  },
  "cells": [
    {
      "cell_type": "markdown",
      "metadata": {
        "id": "view-in-github",
        "colab_type": "text"
      },
      "source": [
        "<a href=\"https://colab.research.google.com/github/GuiPiovezan/Atividades/blob/master/Aula_02_Estrutura_Condicional.ipynb\" target=\"_parent\"><img src=\"https://colab.research.google.com/assets/colab-badge.svg\" alt=\"Open In Colab\"/></a>"
      ]
    },
    {
      "cell_type": "markdown",
      "metadata": {
        "id": "IWT9kBSMTj2O",
        "colab_type": "text"
      },
      "source": [
        "#Aula 2 - Estrutura Condicional\n",
        "## Linguagem de Programação (Prof. Dr. Henrique Dezani)\n",
        "Curso de Tecnologia em Análise e Desenvolvimento de Sistemas da Faculdade de Tecnologia de São José do Rio Preto"
      ]
    },
    {
      "cell_type": "markdown",
      "metadata": {
        "id": "Bu_cUAtKULLJ",
        "colab_type": "text"
      },
      "source": [
        "## 2.1. Estrutura condicional simples (if/else)"
      ]
    },
    {
      "cell_type": "markdown",
      "metadata": {
        "id": "AJD9xRDWI2tK",
        "colab_type": "text"
      },
      "source": [
        "Vamos considerar um problema clássico de cálculo de média e a informação se o aluno foi aprovado ou reprovado."
      ]
    },
    {
      "cell_type": "code",
      "metadata": {
        "id": "foKq0c6HJD-4",
        "colab_type": "code",
        "colab": {}
      },
      "source": [
        "media = 6.0"
      ],
      "execution_count": null,
      "outputs": []
    },
    {
      "cell_type": "markdown",
      "metadata": {
        "id": "KMZkvKpJViD_",
        "colab_type": "text"
      },
      "source": [
        "Um  `if` é um comando de decisão que avalia uma expressão e escolhe um bloco para ser executado, de acordo com o resultado dessa avaliação. A expressão, nesse caso, seria se a média é maior ou igual a 6.0, tendo uma variável sendo comparada com o operador de maior ou igual `>=` com um valor **literal** de um inteiro. Vejamos o código a seguir:"
      ]
    },
    {
      "cell_type": "code",
      "metadata": {
        "id": "PZcToPcOFFhY",
        "colab_type": "code",
        "colab": {}
      },
      "source": [
        "if media >= 6.0:\n",
        "  print('aprovado')"
      ],
      "execution_count": null,
      "outputs": []
    },
    {
      "cell_type": "markdown",
      "metadata": {
        "id": "8Kg_f2wTX8O4",
        "colab_type": "text"
      },
      "source": [
        "Como pudemos ver no exemplo anterior, um dos operadores de comparação (numérico) é o `>=` (maior ou igual). Outros operadores podem ser vistos na Figura abaixo.\n",
        "\n",
        "\n",
        "![Operações de Comparação](https://firebasestorage.googleapis.com/v0/b/aulas-python-2019.appspot.com/o/operacao_comparacao.png?alt=media&token=a753cbf2-bd1a-47ec-b530-4a11edf14c37)"
      ]
    },
    {
      "cell_type": "markdown",
      "metadata": {
        "id": "rt76ozQmYYde",
        "colab_type": "text"
      },
      "source": [
        "Comparações são um pouco inteligentes..."
      ]
    },
    {
      "cell_type": "code",
      "metadata": {
        "id": "GUngHJfqYbC5",
        "colab_type": "code",
        "colab": {}
      },
      "source": [
        "3.0 == 3"
      ],
      "execution_count": null,
      "outputs": []
    },
    {
      "cell_type": "markdown",
      "metadata": {
        "id": "kdwkk9DkYc0M",
        "colab_type": "text"
      },
      "source": [
        "Mas não muito inteligente ..."
      ]
    },
    {
      "cell_type": "code",
      "metadata": {
        "id": "_iwPSiKwYedp",
        "colab_type": "code",
        "colab": {}
      },
      "source": [
        "int('3') == 3"
      ],
      "execution_count": null,
      "outputs": []
    },
    {
      "cell_type": "markdown",
      "metadata": {
        "id": "oC31JMwaFzdZ",
        "colab_type": "text"
      },
      "source": [
        "Uma outra característica marcante de Python é: a definição dos limites do início e fim dos blocos if e else são feitas com **indentação**. Sempre que andamos espaços para a direita, estamos definindo um novo bloco. Já quando voltamos os espaços, significa que aquele bloco terminou."
      ]
    },
    {
      "cell_type": "markdown",
      "metadata": {
        "id": "5Mpw1JO7KTSH",
        "colab_type": "text"
      },
      "source": [
        "Assim como em outras linguagens de programação, também temos definidos os outros elementos como: `elif` (a diante na aula) e `else` . Quando a condição do `if` no for verdadeira, temos a contra medida, ou seja, a instrução executada numa ação de falsidade (`else`). Repare que o corpo dos blocos das condicionais encontra-se espaços depois do canto esquerdo."
      ]
    },
    {
      "cell_type": "code",
      "metadata": {
        "id": "RdbKMXlQF0DD",
        "colab_type": "code",
        "colab": {}
      },
      "source": [
        "if media >= 6.0:\n",
        "  print('aprovado')\n",
        "else: \n",
        "  print('reprovado')"
      ],
      "execution_count": null,
      "outputs": []
    },
    {
      "cell_type": "markdown",
      "metadata": {
        "id": "EUFFMGzQmL5z",
        "colab_type": "text"
      },
      "source": [
        "***ANSI (ESCAPE SEQUENCE)***\n",
        "\n",
        "Você já utilizou diversas vezes este padrão, por exemplo, quebra de linha (\\n), tabulação (\\t) entre outros.\n",
        "\n",
        "Agora, vamos colorir nossas impressões na tela utilizando um escape sequence?\n",
        "Para tanto, basta utilizar o comando:\n",
        "\n",
        "***`\\033[__m`*** antes do texto a ser impresso.\n",
        "\n",
        "Veja alguns exemplos com as cores que podemos utilizar."
      ]
    },
    {
      "cell_type": "code",
      "metadata": {
        "id": "37GOStQHmv7_",
        "colab_type": "code",
        "colab": {}
      },
      "source": [
        "print('\\033[30mTexto Branco/Preto')\n",
        "print('\\033[31mTexto Vermelho')\n",
        "print('\\033[32mTexto Verde')\n",
        "print('\\033[33mTexto Amarelo')\n",
        "print('\\033[34mTexto Azul')\n",
        "print('\\033[35mTexto Lilás')\n",
        "print('\\033[36mTexto Azul Claro')\n",
        "print('\\033[37mTexto Cinza')\n",
        "print('Texto com a cor padrão?')"
      ],
      "execution_count": null,
      "outputs": []
    },
    {
      "cell_type": "code",
      "metadata": {
        "id": "XMNPyQjRpRiI",
        "colab_type": "code",
        "colab": {}
      },
      "source": [
        "print('Texto com a cor padrão?')"
      ],
      "execution_count": null,
      "outputs": []
    },
    {
      "cell_type": "markdown",
      "metadata": {
        "id": "_bA8MBWfnbV2",
        "colab_type": "text"
      },
      "source": [
        "Para colocarmos estilos no texto, basta adicionar a numeração antes da cor:\n",
        "\n",
        "0 - Normal (sem formatação)\n",
        "\n",
        "1 - Negrito\n",
        "\n",
        "3 - Itálico\n",
        "\n",
        "4 - Sublinhado\n",
        "\n",
        "***`print('\\033[0;34mTEXTO')`***"
      ]
    },
    {
      "cell_type": "code",
      "metadata": {
        "id": "DXEzwQ_5nPXx",
        "colab_type": "code",
        "colab": {}
      },
      "source": [
        "print('\\033[0;34mTexto Azul sem formatação')\n",
        "print('\\033[1;34mTexto Azul negrito')\n",
        "print('\\033[3;34mTexto Azul itálico')\n",
        "print('\\033[4;34mTexto Azul sublinhado')"
      ],
      "execution_count": null,
      "outputs": []
    },
    {
      "cell_type": "code",
      "metadata": {
        "id": "UxHmbSw5p5dC",
        "colab_type": "code",
        "colab": {}
      },
      "source": [
        "print('\\033[1;34mTexto Azul negrito')"
      ],
      "execution_count": null,
      "outputs": []
    },
    {
      "cell_type": "markdown",
      "metadata": {
        "id": "rbZT3ZcmqgLd",
        "colab_type": "text"
      },
      "source": [
        "É importante notar que dentro do mesmo bloco de código, as edições de cores são mantidas. Quando executamos outro bloco, a formatação anterior é perdida. Quando trabalhamos com um programa .py (fora no Jupyter notebook, podemos utilizar os código `\\033[m` ao final da string para finalizar a formatação."
      ]
    },
    {
      "cell_type": "code",
      "metadata": {
        "id": "Z2PxA0oqt3FK",
        "colab_type": "code",
        "colab": {}
      },
      "source": [
        "print('\\033[3;34mTexto Azul itálico')"
      ],
      "execution_count": null,
      "outputs": []
    },
    {
      "cell_type": "code",
      "metadata": {
        "id": "mi-ECXNlp58U",
        "colab_type": "code",
        "colab": {}
      },
      "source": [
        "print('\\033[4;34mTexto Azul sublinhado')"
      ],
      "execution_count": null,
      "outputs": []
    },
    {
      "cell_type": "markdown",
      "metadata": {
        "id": "VktIqwBQzoHr",
        "colab_type": "text"
      },
      "source": [
        "Vamos formatar nossa saída?"
      ]
    },
    {
      "cell_type": "code",
      "metadata": {
        "id": "J_7HehL-znmu",
        "colab_type": "code",
        "colab": {}
      },
      "source": [
        "if media >= 7.0:\n",
        "  print('\\033[34mAprovado.')\n",
        "else: \n",
        "  print('\\033[31mReprovado.')"
      ],
      "execution_count": null,
      "outputs": []
    },
    {
      "cell_type": "markdown",
      "metadata": {
        "id": "zKB2PwiLyGmH",
        "colab_type": "text"
      },
      "source": [
        "## 2.2. Estrutura condicional aninhadas (if/elif/else)\n",
        "\n",
        "O `elif` avalia uma outra expressão e é executado caso esta seja avaliada como verdadeira. No caso de nenhuma expressão de `if` ou `elif` ser verdadeira, o bloco do `else` é executado, se existir."
      ]
    },
    {
      "cell_type": "code",
      "metadata": {
        "id": "d15ggzSIrlB2",
        "colab_type": "code",
        "colab": {}
      },
      "source": [
        "media = 5"
      ],
      "execution_count": null,
      "outputs": []
    },
    {
      "cell_type": "code",
      "metadata": {
        "id": "fDnd_H70Krru",
        "colab_type": "code",
        "colab": {}
      },
      "source": [
        "if media >= 6:\n",
        "  print('aprovado')\n",
        "elif media >= 4:\n",
        "  print('exame de segunda época')\n",
        "else:\n",
        "  print('reprovado')"
      ],
      "execution_count": null,
      "outputs": []
    },
    {
      "cell_type": "markdown",
      "metadata": {
        "id": "37Ayr3qct-yN",
        "colab_type": "text"
      },
      "source": [
        "Vamos refazer o código anterior, colocando mais estilo em nossa resposta."
      ]
    },
    {
      "cell_type": "code",
      "metadata": {
        "id": "KRe-e-3St-QJ",
        "colab_type": "code",
        "colab": {}
      },
      "source": [
        "if media >= 6:\n",
        "  print('\\033[34mAprovado.')\n",
        "elif media >= 4:\n",
        "  print('\\033[33mExame de segunda época.')\n",
        "else:\n",
        "  print('\\033[31mReprovado.')"
      ],
      "execution_count": null,
      "outputs": []
    },
    {
      "cell_type": "markdown",
      "metadata": {
        "id": "O8Q_drrNLU6c",
        "colab_type": "text"
      },
      "source": [
        "##2.3. Operadores lógicos"
      ]
    },
    {
      "cell_type": "markdown",
      "metadata": {
        "id": "W-CiG3wPLxFH",
        "colab_type": "text"
      },
      "source": [
        "O tipo de dados mais simples é o chamado booleano (ou lógico). Esse tipo de dados, um dado booleano só pode assumir dois valores (VERDADEIRO ou FALSO). Em Python, esse tipo de dado é chamado `bool` e os valores possíves são `True` e `False`."
      ]
    },
    {
      "cell_type": "code",
      "metadata": {
        "id": "FJtCpl2DLeuL",
        "colab_type": "code",
        "colab": {
          "base_uri": "https://localhost:8080/",
          "height": 34
        },
        "outputId": "276a799d-e595-42c3-eb26-e524229770b9"
      },
      "source": [
        "valor_verdadeiro = True\n",
        "type(valor_verdadeiro)"
      ],
      "execution_count": null,
      "outputs": [
        {
          "output_type": "execute_result",
          "data": {
            "text/plain": [
              "bool"
            ]
          },
          "metadata": {
            "tags": []
          },
          "execution_count": 2
        }
      ]
    },
    {
      "cell_type": "code",
      "metadata": {
        "id": "yuFsZpnvK9i7",
        "colab_type": "code",
        "colab": {
          "base_uri": "https://localhost:8080/",
          "height": 34
        },
        "outputId": "18743ad5-e937-4f6d-d0c1-d2256214da1b"
      },
      "source": [
        "print(valor_verdadeiro)"
      ],
      "execution_count": null,
      "outputs": [
        {
          "output_type": "stream",
          "text": [
            "True\n"
          ],
          "name": "stdout"
        }
      ]
    },
    {
      "cell_type": "markdown",
      "metadata": {
        "id": "E-huCTpnMWy6",
        "colab_type": "text"
      },
      "source": [
        "Em Python, utilizamos a palavra `not` para negar o valor booleano. Veja o exemplo:"
      ]
    },
    {
      "cell_type": "code",
      "metadata": {
        "id": "KZ0HgHaMMWBg",
        "colab_type": "code",
        "colab": {}
      },
      "source": [
        "print(not valor_verdadeiro)"
      ],
      "execution_count": null,
      "outputs": []
    },
    {
      "cell_type": "markdown",
      "metadata": {
        "id": "ebnvymC7MygP",
        "colab_type": "text"
      },
      "source": [
        "Quando desejamos comparar diversas expressões dentro de um comando de decisão, podemos utilizar também as palavras chaves `and` e `or`. Vejamos um exemplo para formar a tabela verdade:"
      ]
    },
    {
      "cell_type": "code",
      "metadata": {
        "id": "XUFkST89Y_8F",
        "colab_type": "code",
        "colab": {
          "base_uri": "https://localhost:8080/",
          "height": 187
        },
        "outputId": "3f22bed6-6450-4140-cd7a-409a35ee8cde"
      },
      "source": [
        "print('True and True:', True and True)\n",
        "print('True and False:', True and False)\n",
        "print('False and False:', False and False)\n",
        "print()\n",
        "print('True or True:', True or True)\n",
        "print('True or False:', True or False)\n",
        "print('False or False:', False or False)\n",
        "print()\n",
        "print('not True:', not True)\n",
        "print('not False:', not False)"
      ],
      "execution_count": null,
      "outputs": [
        {
          "output_type": "stream",
          "text": [
            "True and True: True\n",
            "True and False: False\n",
            "False and False: False\n",
            "\n",
            "True or True: True\n",
            "True or False: True\n",
            "False or False: False\n",
            "\n",
            "not True: False\n",
            "not False: True\n"
          ],
          "name": "stdout"
        }
      ]
    },
    {
      "cell_type": "code",
      "metadata": {
        "id": "KdMAvbuHNUMb",
        "colab_type": "code",
        "colab": {}
      },
      "source": [
        "valor1 = True\n",
        "valor2 = False"
      ],
      "execution_count": null,
      "outputs": []
    },
    {
      "cell_type": "code",
      "metadata": {
        "id": "zO6Q3RciMHpM",
        "colab_type": "code",
        "colab": {
          "base_uri": "https://localhost:8080/",
          "height": 34
        },
        "outputId": "90e1b324-caa8-4656-ff3d-d93eaa6409a1"
      },
      "source": [
        "if valor1 and valor2:\n",
        "  print('Verdadeiro') # se ambos forem verdadeiros\n",
        "else:\n",
        "  print('Falso') # se um dele já for falso."
      ],
      "execution_count": null,
      "outputs": [
        {
          "output_type": "stream",
          "text": [
            "Falso\n"
          ],
          "name": "stdout"
        }
      ]
    },
    {
      "cell_type": "code",
      "metadata": {
        "id": "50S8KRdhNFYI",
        "colab_type": "code",
        "colab": {
          "base_uri": "https://localhost:8080/",
          "height": 34
        },
        "outputId": "44ac9e5e-4a3e-4631-df69-ca700eabf850"
      },
      "source": [
        "if valor1 or valor2:\n",
        "  print('Verdadeiro') # se um deles já for verdadeiro.\n",
        "else:\n",
        "  print('Falso') # se ambos forem falsos."
      ],
      "execution_count": null,
      "outputs": [
        {
          "output_type": "stream",
          "text": [
            "Verdadeiro\n"
          ],
          "name": "stdout"
        }
      ]
    },
    {
      "cell_type": "markdown",
      "metadata": {
        "id": "DwRu2Oi9OEQV",
        "colab_type": "text"
      },
      "source": [
        "Dando continuidade ao nosso exemplo de cálculo de média, vamos supor que mais uma variável seja adicionada ao nosso sistema: `quantidade de faltas`."
      ]
    },
    {
      "cell_type": "code",
      "metadata": {
        "id": "uqI6HR7FN6N7",
        "colab_type": "code",
        "colab": {}
      },
      "source": [
        "quantidade_faltas = 20\n",
        "media = 6.0"
      ],
      "execution_count": null,
      "outputs": []
    },
    {
      "cell_type": "code",
      "metadata": {
        "id": "H9ACY2rLOTNc",
        "colab_type": "code",
        "colab": {
          "base_uri": "https://localhost:8080/",
          "height": 34
        },
        "outputId": "9168a141-defe-431c-fed3-c8b688307f4d"
      },
      "source": [
        "if media >= 6.0 and quantidade_faltas <= 20:\n",
        "  print('aprovado')\n",
        "elif media >= 4.0 and quantidade_faltas <= 20:\n",
        "  print('exame de segunda época')\n",
        "else:\n",
        "  print('reprovado')"
      ],
      "execution_count": null,
      "outputs": [
        {
          "output_type": "stream",
          "text": [
            "aprovado\n"
          ],
          "name": "stdout"
        }
      ]
    },
    {
      "cell_type": "code",
      "metadata": {
        "id": "BAvUQVOlOjA4",
        "colab_type": "code",
        "colab": {}
      },
      "source": [
        "# reestruturando o código utilizando níveis de identação:\n",
        "if quantidade_faltas <= 20:\n",
        "  if media >= 6.0:\n",
        "    print('aprovado')\n",
        "  elif media >= 4.0:\n",
        "    print('exame de segunda época')\n",
        "else:\n",
        "  print('reprovado')"
      ],
      "execution_count": null,
      "outputs": []
    },
    {
      "cell_type": "markdown",
      "metadata": {
        "id": "kKpFEFqYI2QA",
        "colab_type": "text"
      },
      "source": [
        "##2.4. Switch/Case"
      ]
    },
    {
      "cell_type": "code",
      "metadata": {
        "id": "0VmIkG5uJAUJ",
        "colab_type": "code",
        "colab": {
          "base_uri": "https://localhost:8080/",
          "height": 34
        },
        "outputId": "8c46fbf0-59ed-40b3-8136-b86004ec472d"
      },
      "source": [
        "print('\\033[2;31mNão tem! :-)')"
      ],
      "execution_count": null,
      "outputs": [
        {
          "output_type": "stream",
          "text": [
            "\u001b[2;31mNão tem! :-)\n"
          ],
          "name": "stdout"
        }
      ]
    },
    {
      "cell_type": "markdown",
      "metadata": {
        "id": "tFVnfoiTPUIV",
        "colab_type": "text"
      },
      "source": [
        "##2.5. Exercício Resolvido: Cálculo do IMC\n",
        "\n",
        "Vamos desenvolver um código que seja capaz de, dada a altura e peso de uma pessoa, calcular o seu IMC (Índice de Massa Corporal) e indicar sua situação. O cálculo do IMC é feito pela divisão do peso pela altura ao quadrado. As possíveis situações são:\n",
        "\n",
        " - Abaixo de 17.      Muito abaixo do peso\n",
        " - Entre 17 e 18,49\t Abaixo do peso\n",
        " - Entre 18,5 e 24,99 Peso normal\n",
        " - Entre 25 e 29,99\t Acima do peso\n",
        " - Entre 30 e 34,99\t Obesidade I\n",
        " - Entre 35 e 39,99\t Obesidade II (severa)\n",
        " - Acima de 40\t       Obesidade III (mórbida)"
      ]
    },
    {
      "cell_type": "code",
      "metadata": {
        "colab_type": "code",
        "id": "kLu80PYxVuL8",
        "colab": {
          "base_uri": "https://localhost:8080/",
          "height": 68
        },
        "outputId": "8b793972-8cbd-4dc2-a858-2184f11f2bc2"
      },
      "source": [
        "# Vamos resolver!\n",
        "peso = float(input(\"Digite o seu peso: \"))\n",
        "altura = float(input(\"Digite seu altura: \"))\n",
        "imc = peso / pow(altura, 2)\n",
        "if imc <17.01:\n",
        "  print(\"Muito abaixo do peso!\")\n",
        "elif imc <=18.49:\n",
        "  print(\"Abaixo do peso\")\n",
        "elif imc<= 24.99:\n",
        "  print(\"Peso normal\")\n",
        "elif imc<=29.99:\n",
        "  print(\"Acima do peso\")\n",
        "elif imc <= 34.99:\n",
        "  print(\"Obesidade I\")\n",
        "elif imc <=39.99:\n",
        "  print(\"Obesidade II\")\n",
        "else:\n",
        "  print(\"Obesidade III\")"
      ],
      "execution_count": null,
      "outputs": [
        {
          "output_type": "stream",
          "text": [
            "Digite o seu peso: 60.0\n",
            "Digite seu altura: 1.73\n",
            "Peso normal\n"
          ],
          "name": "stdout"
        }
      ]
    },
    {
      "cell_type": "markdown",
      "metadata": {
        "id": "fVzxciCZea46",
        "colab_type": "text"
      },
      "source": [
        "##2.6. Exercícios"
      ]
    },
    {
      "cell_type": "markdown",
      "metadata": {
        "id": "lK34zdC6fLJE",
        "colab_type": "text"
      },
      "source": [
        "### 2.6.1. Exercício 1: Faça um programa em que ele sorteie um número entre 0 e 5. O usuário deverá então adivinhar este número e o programa deverá escrever na tela se ele acertou ou não."
      ]
    },
    {
      "cell_type": "code",
      "metadata": {
        "id": "VDSXjbzkbISI",
        "colab_type": "code",
        "colab": {
          "base_uri": "https://localhost:8080/",
          "height": 51
        },
        "outputId": "4cf54fd1-ca39-4f7d-800b-a1de24b6a940"
      },
      "source": [
        "# Importação do módulo random.\n",
        "import random\n",
        "\n",
        "# Uso da função randint, do módulo random, para gerar um número entre 0 e 5.\n",
        "numero_sorteado = random.randint(0,5)\n",
        "\n",
        "# ESCREVA SEU CÓDIGO A PARTIR DAQUI.\n",
        "numero_digitado = int(input(\"Digite um número entre 0 e 5: \"))\n",
        "if numero_digitado == numero_sorteado:\n",
        "  print(\"Correto!! O número sorteado é {} e você digitou {}\".format(numero_sorteado, numero_digitado))\n",
        "elif numero_digitado > 5:\n",
        "  print(\"Digite um número entre 0 e 5\")\n",
        "else:\n",
        "  print(\"O número sorteado é {} e você digitou {}, não foi desta vez!!\".format(numero_sorteado, numero_digitado))"
      ],
      "execution_count": null,
      "outputs": [
        {
          "output_type": "stream",
          "text": [
            "Digite um número entre 0 e 5: 0\n",
            "O número sorteado é: 1 e você digitou 0, não foi desta vez!!\n"
          ],
          "name": "stdout"
        }
      ]
    },
    {
      "cell_type": "markdown",
      "metadata": {
        "id": "5xASByOUgIuR",
        "colab_type": "text"
      },
      "source": [
        "### 2.6.2. Exercício 2: Crie um programa que leia um número inteiro e mostre na tela se ele é par ou ímpar."
      ]
    },
    {
      "cell_type": "code",
      "metadata": {
        "id": "Veyhur6_gNYr",
        "colab_type": "code",
        "colab": {
          "base_uri": "https://localhost:8080/",
          "height": 51
        },
        "outputId": "db21a3ee-8e1b-4a86-d00e-6cbd30c91ae7"
      },
      "source": [
        "numero_inteiro = int(input(\"Digite um número inteiro: \"))\n",
        "if numero_inteiro % 2 == 0:\n",
        "  print(\"Número par!\")\n",
        "else:\n",
        "  print(\"Número ímpar\")"
      ],
      "execution_count": null,
      "outputs": [
        {
          "output_type": "stream",
          "text": [
            "Digite um número inteiro: 5\n",
            "Número ímpar\n"
          ],
          "name": "stdout"
        }
      ]
    },
    {
      "cell_type": "markdown",
      "metadata": {
        "id": "vosNGm5BfaQD",
        "colab_type": "text"
      },
      "source": [
        "### 2.6.3. Exercício 3: Escreva um programa que leia a velocidade de um carro. Se esta velocidade for maior que 80Km/h o programa deverá escrever uma mensagem na tela avisando que o usuário levou uma multa e o valor a ser pago. Considere R$ 7 reais por cada Km acima do limite."
      ]
    },
    {
      "cell_type": "code",
      "metadata": {
        "id": "CQlkVZWxf8v4",
        "colab_type": "code",
        "colab": {
          "base_uri": "https://localhost:8080/",
          "height": 102
        },
        "outputId": "9640a5ec-cbb6-4578-8091-8372d7fd91e2"
      },
      "source": [
        "velocidade_carro = float(input(\"Digite a velocidade do carro: \"))\n",
        "if velocidade_carro > 80.0:\n",
        "  valor_multa = (velocidade_carro - 80) * 7\n",
        "  print(\"Atenção: limite de velociade acima do permitido!! \\nVelocidade atingida: {}Km/h \\nVelocidade Permitida: 80km/h \\nValor multa: R${} reais\".format(velocidade_carro, valor_multa))\n"
      ],
      "execution_count": null,
      "outputs": [
        {
          "output_type": "stream",
          "text": [
            "Digite a velocidade do carro: 81\n",
            "Atenção: limite de velociade acima do permitido!! \n",
            " Velocidade atingida: 81.0Km/h \n",
            "Velocidade Permitida: 80km/h \n",
            "Valor multa: R$7.0 reais\n"
          ],
          "name": "stdout"
        }
      ]
    },
    {
      "cell_type": "markdown",
      "metadata": {
        "id": "6uWVM2ZEgODD",
        "colab_type": "text"
      },
      "source": [
        "\n",
        "### 2.6.4. Exercício 4: Crie um programa que calcule o preço a ser pago por um serviço computacional. O usuário deverá informar a quantidade de horas utilizada. Será cobrado `R$ 0,50` por hora para consumo de até 10 horas, `R$ 0,45` por hora para consumo entre 10 e 20 horas e `R$ 0,40` por hora para consumo maior de 20 horas."
      ]
    },
    {
      "cell_type": "code",
      "metadata": {
        "id": "bhFzfmzBg-tw",
        "colab_type": "code",
        "colab": {
          "base_uri": "https://localhost:8080/",
          "height": 51
        },
        "outputId": "a8783f9c-65dc-4b84-f82c-170e952ce95f"
      },
      "source": [
        "quantidade_horas_trabalhadas = int(input(\"Digite a quantidade de horas trabalhadas: \"))\n",
        "if quantidade_horas_trabalhadas < 10:\n",
        "  valor_servico = quantidade_horas_trabalhadas * 0.50\n",
        "elif quantidade_horas_trabalhadas <20:\n",
        "  valor_servico = quantidade_horas_trabalhadas * 0.45\n",
        "else:\n",
        "  valor_servico = quantidade_horas_trabalhadas * 0.40\n",
        "print(\"O usuário usou {}h do serviço computacional e irá pagar R${0:.2f} reais\".format(quantidade_horas_trabalhadas, valor_servico))"
      ],
      "execution_count": null,
      "outputs": [
        {
          "output_type": "stream",
          "text": [
            "Digite a quantidade de horas trabalhadas: 50\n",
            "O usuário usou 50h do serviço computacional e irá pagar R$20.0 reais\n"
          ],
          "name": "stdout"
        }
      ]
    },
    {
      "cell_type": "markdown",
      "metadata": {
        "id": "KqOT49B0jl7q",
        "colab_type": "text"
      },
      "source": [
        "### 2.6.5. Exercício 5: Faça um programa que leia 3 números e mostre qual é o maior e qual é o menor (não utilize as funções built-in max() e min())"
      ]
    },
    {
      "cell_type": "code",
      "metadata": {
        "id": "fy9rvoZ2jb8e",
        "colab_type": "code",
        "colab": {}
      },
      "source": [
        "a = int(input(\"Digite o 1º número: \"))\n",
        "b = int(input(\"Digite o 2º número: \"))\n",
        "c = int(input(\"Digite o 3º número: \"))\n",
        "# Mostrando valores maiores\n",
        "if a > b and a > c:\n",
        "  print(\"Maior {}\".format(a))\n",
        "elif b > a and b > c:\n",
        "  print(\"Maior {}\".format(b))\n",
        "else:\n",
        "  print(\"Maior {}\".format(c))\n",
        "# Mostrando valores menores\n",
        "if a < b and a < c:\n",
        "  print(\"Maior {}\".format(a))\n",
        "elif b < a and b < c:\n",
        "  print(\"Maior {}\".format(b))\n",
        "else:\n",
        "  print(\"Maior {}\".format(c))"
      ],
      "execution_count": null,
      "outputs": []
    },
    {
      "cell_type": "markdown",
      "metadata": {
        "id": "ScGt7O41juFk",
        "colab_type": "text"
      },
      "source": [
        "### 2.6.6. Exercício 6: Escreva um programa que leia o salário de um funcionário e calcule o seu aumento. Caso o salário atual seja superior a `R$ 1.000,00` calcule um aumento de 10%, caso contrário, calcule um aumento de 15%."
      ]
    },
    {
      "cell_type": "code",
      "metadata": {
        "id": "An_8rOrnkAYA",
        "colab_type": "code",
        "colab": {
          "base_uri": "https://localhost:8080/",
          "height": 51
        },
        "outputId": "6aff5b58-6435-486d-f16f-2012773c09c5"
      },
      "source": [
        "salario_funcionario = float(input(\"Digite o salário atual do funcionário: \"))\n",
        "if salario_funcionario > 1000.00:\n",
        "  salario_aumento = salario_funcionario + (salario_funcionario * 0.10)\n",
        "  print(\"O aumento foi de 10% sobre o salário R${} reais\".format(salario_aumento))\n",
        "else:\n",
        "  salario_aumento = salario_funcionario + (salario_funcionario * 0.15)\n",
        "  print(\"O aumento foi de 15% sobre o salário R${:.2f} reais\".format(salario_aumento))"
      ],
      "execution_count": null,
      "outputs": [
        {
          "output_type": "stream",
          "text": [
            "Digite o salário do funcionário: 1500\n",
            "O aumento foi de 10% sobre o salário: R$1650.0 reais\n"
          ],
          "name": "stdout"
        }
      ]
    },
    {
      "cell_type": "markdown",
      "metadata": {
        "id": "_Q6VwWG3kJBe",
        "colab_type": "text"
      },
      "source": [
        "### 2.6.7. Exercício 7: ***Condição de existência de um triângulo***: Para construir um triângulo não podemos utilizar qualquer medida, tem que seguir a condição de existência, isto é, para construir um triângulo é necessário que a medida de qualquer um dos lados seja menor que a soma das medidas dos outros dois e maior que o valor absoluto da diferença entre essas medidas [[Brasil Escola, 2019](https://brasilescola.uol.com.br/matematica/triangulo.htm)].\n",
        "\n",
        "| b - c | < a < b + c\n",
        "\n",
        "| a - c | < b < a + c\n",
        "\n",
        "| a - b | < c < a + b\n",
        "\n",
        "Com base nesta condição, crie um programa que leia o comprimento de três retas e escreva na tela se estas retas podem ou não formar um triângulo."
      ]
    },
    {
      "cell_type": "code",
      "metadata": {
        "id": "0XVtTOcCk_jf",
        "colab_type": "code",
        "colab": {
          "base_uri": "https://localhost:8080/",
          "height": 85
        },
        "outputId": "b976ddc8-58c3-490f-b6ef-13c6047ab554"
      },
      "source": [
        "a = float(input(\"Digite o comprimento do lado a: \"))\n",
        "b = float(input(\"Digite o comprimento do lado b: \"))\n",
        "c = float(input(\"Digite o comprimento do lado c: \"))\n",
        "if (abs(b - c) < a < b + c) and (abs(a - c) < b < a + c) and (abs(a - b) < c < a + b):\n",
        "  print(\"Triângulo existente!\")\n",
        "else:\n",
        "  print(\"Triângulo não existente!\")"
      ],
      "execution_count": null,
      "outputs": [
        {
          "output_type": "stream",
          "text": [
            "Digite o comprimento do lado a: 5\n",
            "Digite o comprimento do lado b: 5\n",
            "Digite o comprimento do lado c: 10\n",
            "Triângulo não existente!\n"
          ],
          "name": "stdout"
        }
      ]
    },
    {
      "cell_type": "markdown",
      "metadata": {
        "id": "V39J6eclA5le",
        "colab_type": "text"
      },
      "source": [
        "### 2.6.8. Exercício 8: Faça um programa para aprovar o empréstimo bancário para a compra de uma casa. O usuário deverá informar o valor da casa, a quantidade de parcelas que deseja pagar e seu salário. O empréstimo deverá ser negado caso o valor da parcela exceda 30% do salário."
      ]
    },
    {
      "cell_type": "code",
      "metadata": {
        "id": "RfnFPzygBYfr",
        "colab_type": "code",
        "colab": {
          "base_uri": "https://localhost:8080/",
          "height": 85
        },
        "outputId": "8ac0e71e-b005-47a0-9702-560eb7c7377d"
      },
      "source": [
        "valor_imovel = float(input(\"Digite o valor do imóvel a ser adiquirido: \"))\n",
        "quantidade_parcelas = int(input(\"Digite a quantidade de parcelas a serem pagas: \"))\n",
        "salario = float(input(\"Digite o salário do solicitante: \"))\n",
        "valor_parcela = valor_imovel /quantidade_parcelas\n",
        "if valor_parcela > (salario + (salario * 0.30)):\n",
        "  print(\"Empréstimo negado! O valor da parcela excede 30% do salário do indíviduo\\nOnde o valor das parcelas seriam R${:.2f} reais e o de salário R${} reais\".format(valor_parcela, salario))\n",
        "else:\n",
        "  print(\"Empréstimo aprovado!\")"
      ],
      "execution_count": null,
      "outputs": [
        {
          "output_type": "stream",
          "text": [
            "Digite o valor do imóvel a ser adiquirido: 100000\n",
            "Digite a quantidade de parcelas a serem pagas: 24\n",
            "Digite o salário do solicitante: 10000\n",
            "Empréstimo aprovado!\n"
          ],
          "name": "stdout"
        }
      ]
    },
    {
      "cell_type": "markdown",
      "metadata": {
        "id": "sUac_6Z5H4yI",
        "colab_type": "text"
      },
      "source": [
        "### 2.6.9. Exercício 9: Escreva um programa que leia dois números inteiros e compare-os, mostrando na tela uma das mensagens:\n",
        "\n",
        " - O `primeiro valor` é maior.\n",
        " - O `segundo valor` é maior.\n",
        " - Os valores são iguais."
      ]
    },
    {
      "cell_type": "code",
      "metadata": {
        "id": "xoxtLirSJ2Rd",
        "colab_type": "code",
        "colab": {
          "base_uri": "https://localhost:8080/",
          "height": 68
        },
        "outputId": "93471a82-f908-41ca-efd8-3153a08bc846"
      },
      "source": [
        "primeiro_numero = int(input(\"Digite um primeiro número inteiro: \"))\n",
        "segundo_numero = int(input(\"Digite um segundo número inteiro: \"))\n",
        "if primeiro_numero > segundo_numero:\n",
        "  print(\"O primeiro valor é maior.\")\n",
        "elif segundo_numero > primeiro_numero:\n",
        "  print(\"O segundo valor é maior.\")\n",
        "else:\n",
        "  print(\"O valores são iguais\")"
      ],
      "execution_count": null,
      "outputs": [
        {
          "output_type": "stream",
          "text": [
            "Digite um primeiro número inteiro: 1\n",
            "Digite um segundo número inteiro: 1\n",
            "O valores são iguais\n"
          ],
          "name": "stdout"
        }
      ]
    },
    {
      "cell_type": "markdown",
      "metadata": {
        "id": "axsnPeLxJ4j-",
        "colab_type": "text"
      },
      "source": [
        "### 2.6.10. Exercício 10: Faça um program que leia o ano de nascimento de uma pessoa e informe se ele ainda vai se alistar ao serviço militar ou se ele está no período de se alistar ou se ele perdeu o prazo para se alistar. Além disso, mostre também a quantidade de anos que falta para se alistar ou que passou do prazo."
      ]
    },
    {
      "cell_type": "code",
      "metadata": {
        "id": "CoCccdIIKXOp",
        "colab_type": "code",
        "colab": {
          "base_uri": "https://localhost:8080/",
          "height": 51
        },
        "outputId": "3f2e2342-bc35-46dc-e310-71342062d18d"
      },
      "source": [
        "# Importação da classe date do módulo datetime.\n",
        "# https://docs.python.org/3/library/datetime.html\n",
        "from datetime import date\n",
        "\n",
        "# recupera o ano atual.\n",
        "ano_atual = date.today().year\n",
        "\n",
        "# ESCREVA O CÓDIGO A PARTIR DAQUI.\n",
        "ano_nascimento = int(input(\"Digite o ano de nascimento: \"))\n",
        "# Faremos a subtração para realizar a comparação de valores\n",
        "idade = ano_atual - ano_nascimento\n",
        "if idade < 18:\n",
        "  y = 18 - idade\n",
        "  print(\"Faltam {} anos para realizar o alistamento\".format(y))\n",
        "elif idade > 18:\n",
        "  y = idade - 18\n",
        "  print(\"Passou {} anos para realização do alistamento, você está atrasado!\".format(y))\n",
        "else:\n",
        "  print(\"Faça já seu agendamento!\")  \n",
        "\n"
      ],
      "execution_count": null,
      "outputs": [
        {
          "output_type": "stream",
          "text": [
            "Digite o ano de nascimento: 2000\n",
            "Passou 2 anos para realização do alistamento, você está atrasado!\n"
          ],
          "name": "stdout"
        }
      ]
    },
    {
      "cell_type": "markdown",
      "metadata": {
        "id": "t4RImt4iKX8L",
        "colab_type": "text"
      },
      "source": [
        "### 2.6.11. Exercício 11: Faça um programa que leia o comprimento de três lados de um triângulo (válido), indicando que tipo de triângulo será formado:\n",
        "\n",
        "- Equilátero: todos os lados são iguais; ou\n",
        "- Isósceles: dois lados são iguais; ou \n",
        "- Escaleno: todos os lados são diferentes."
      ]
    },
    {
      "cell_type": "code",
      "metadata": {
        "id": "NnMNGrqwLLqk",
        "colab_type": "code",
        "colab": {
          "base_uri": "https://localhost:8080/",
          "height": 85
        },
        "outputId": "bbcfd7b6-3367-4c2f-ec3d-c1e432a9c43d"
      },
      "source": [
        "lado_a = float(input(\"Digite o comprimento do 1º lado do triângulo: \"))\n",
        "lado_b = float(input(\"Digite o comprimento do 2º lado do triângulo: \"))\n",
        "lado_c = float(input(\"Digite o comprimento do 3º lado do triângulo: \"))\n",
        "if lado_a == lado_b and lado_a != lado_c or lado_b == lado_c and lado_b != lado_a or lado_c == lado_a and lado_c != lado_b:\n",
        "  print(\"Triângulo isóceles\")\n",
        "elif lado_a == lado_b and lado_b == lado_c:\n",
        "  print(\"Triângulo equilátero\")\n",
        "else:\n",
        "  print(\"Todos os lados são diferentes\")"
      ],
      "execution_count": null,
      "outputs": [
        {
          "output_type": "stream",
          "text": [
            "Digite o comprimento do 1º lado do triângulo: 100\n",
            "Digite o comprimento do 2º lado do triângulo: 10\n",
            "Digite o comprimento do 3º lado do triângulo: 1\n",
            "Todos os lados são diferentes\n"
          ],
          "name": "stdout"
        }
      ]
    },
    {
      "cell_type": "markdown",
      "metadata": {
        "id": "LHfPVewV0zAX",
        "colab_type": "text"
      },
      "source": [
        ""
      ]
    },
    {
      "cell_type": "markdown",
      "metadata": {
        "id": "Oq5FW1AILMI6",
        "colab_type": "text"
      },
      "source": [
        "### 2.6.12. Exercício 12: Crie um programa que calcule o valor a ser pago por um produto considerando o seu `preço normal` e a `condição de pagamento`:\n",
        "\n",
        " - à vista no dinheiro ou cheque: 10% de desconto;\n",
        " - à vista no cartão: 5% de desconto;\n",
        " - em até 2x no cartão: preço normal;\n",
        " - em 3x no cartão: 20% de juros."
      ]
    },
    {
      "cell_type": "code",
      "metadata": {
        "id": "JLYm1RbZL-Jw",
        "colab_type": "code",
        "colab": {
          "base_uri": "https://localhost:8080/",
          "height": 170
        },
        "outputId": "dc3a3898-ae51-41fe-c945-87b49fb12568"
      },
      "source": [
        "valor_produto = float(input(\"Digite o valor do produto: \"))\n",
        "condicao_pagamento = int(input(\"Digite a condição de pagamento: \\n 1 - À vista no dinheiro ou cheque\\n 2 - À vista no cartão\\n 3 - 2x no cartão \\n 4 - 3x no cartão\\n Seleciona a opção: \"))\n",
        "if condicao_pagamento == 1:\n",
        "  valor_total = valor_produto - ( valor_produto * 0.10)\n",
        "elif condicao_pagamento == 2:\n",
        "  valor_total = valor_produto - ( valor_produto * 0.05)\n",
        "elif condicao_pagamento == 3:\n",
        "  valor_total = valor_produto\n",
        "elif condicao_pagamento == 4:\n",
        "  valor_total = valor_produto + (valor_produto + 0.20)\n",
        "else :\n",
        "  print(\"\\nEscolha uma opção válida!\")\n",
        "\n",
        "print(\"\\nValor do produto: R${} reais\\nOpção selecionada: {}\\nValor total: R${} reais\".format(valor_produto, condicao_pagamento, valor_total))"
      ],
      "execution_count": null,
      "outputs": [
        {
          "output_type": "stream",
          "text": [
            "Digite o valor do produto: 1000\n",
            "Digite a condição de pagamento: \n",
            " 1 - À vista no dinheiro ou cheque\n",
            " 2 - À vista no cartão\n",
            " 3 - 2x no cartão \n",
            " 4 - 3x no cartão 1\n",
            "Valor do produto: R$1000.0 reais\n",
            " Opção selecionada: 1\n",
            "Valor total: R$900.0 reais\n"
          ],
          "name": "stdout"
        }
      ]
    },
    {
      "cell_type": "markdown",
      "metadata": {
        "id": "hOfng9fpL_cx",
        "colab_type": "text"
      },
      "source": [
        "### 2.6.13. Exercício 13: Faça um programa para jogar Jokenpô (clássico pedra, papel e tesoura) com você. Você deverá informar uma das opções, o programa deverá então sortear uma das três opções possíveis e mostrar quem ganhou na tela."
      ]
    },
    {
      "cell_type": "code",
      "metadata": {
        "id": "ZMcLHlVLMefE",
        "colab_type": "code",
        "colab": {
          "base_uri": "https://localhost:8080/",
          "height": 119
        },
        "outputId": "dca5b929-e272-4031-9b59-967c7b9da3d8"
      },
      "source": [
        "# utilize a função randint do módulo random apresentado no exercício 1.\n",
        "# Importação do módulo random.\n",
        "import random\n",
        "# Uso da função randint, do módulo random, para gerar um número entre 1 e 3. Esses números serão correspondentes as opções (1 - pedra, 2 - papel e 3 - tesoura)\n",
        "numero_sorteado = random.randint(1,3)\n",
        "numero_digitado = int(input(\"Selecione: \\n 1 - Pedra\\n 2 - Tesoura\\n 3 - Papel\\nSelecione a opção: \"))\n",
        "# 1 - Pedra \\ 2 - Tesoura e 3 - Papel\n",
        "# 9 possibilidades de jogadas\n",
        "if numero_sorteado == 1 and numero_digitado == 2:\n",
        "  print(\"Pedra ganhou!\")\n",
        "elif numero_sorteado == 1 and numero_digitado == 3:\n",
        "  print(\"Papel ganhou!\")\n",
        "elif numero_sorteado == 3 and numero_digitado == 2:\n",
        "  print(\"Tesoura ganhou!\")\n",
        "elif numero_sorteado == 2 and numero_digitado == 1:\n",
        "  print(\"Pedra ganhou!\")\n",
        "elif numero_sorteado == 3 and numero_digitado == 1:\n",
        "  print(\"Papel ganhou!\")\n",
        "elif numero_sorteado == 2 and numero_digitado == 3:\n",
        "  print(\"Tesoura ganhou!\")\n",
        "elif numero_sorteado == 2 and numero_digitado == 2:\n",
        "  print(\"Empate\")\n",
        "elif numero_sorteado == 3 and numero_digitado == 3:\n",
        "  print(\"Empate\")\n",
        "elif numero_sorteado == 1 and numero_digitado == 1:\n",
        "  print(\"Empate\")\n",
        "  \n"
      ],
      "execution_count": null,
      "outputs": [
        {
          "output_type": "stream",
          "text": [
            "Selecione: \n",
            " 1 - Pedra\n",
            " 2 - Tesoura\n",
            " 3 - Papel\n",
            "Selecione a opção: 2\n",
            "Empate\n"
          ],
          "name": "stdout"
        }
      ]
    }
  ]
}